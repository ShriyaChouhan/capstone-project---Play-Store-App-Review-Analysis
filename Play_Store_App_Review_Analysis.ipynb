{
  "nbformat": 4,
  "nbformat_minor": 0,
  "metadata": {
    "colab": {
      "provenance": [],
      "collapsed_sections": [
        "t6dVpIINYklI",
        "ijmpgYnKYklI",
        "-JiQyfWJYklI",
        "EM7whBJCYoAo",
        "fge-S5ZAYoAp",
        "85gYPyotYoAp",
        "RoGjAbkUYoAp",
        "4Of9eVA-YrdM",
        "iky9q4vBYrdO",
        "F6T5p64dYrdO",
        "y-Ehk30pYrdP",
        "bamQiAODYuh1",
        "QHF8YVU7Yuh3",
        "GwzvFGzlYuh3",
        "qYpmQ266Yuh3",
        "OH-pJp9IphqM",
        "bbFf2-_FphqN",
        "_ouA3fa0phqN",
        "Seke61FWphqN",
        "PIIx-8_IphqN",
        "t27r6nlMphqO",
        "r2jJGEOYphqO",
        "b0JNsNcRphqO",
        "BZR9WyysphqO",
        "jj7wYXLtphqO",
        "eZrbJ2SmphqO",
        "rFu4xreNphqO",
        "YJ55k-q6phqO",
        "gCFgpxoyphqP",
        "OVtJsKN_phqQ",
        "lssrdh5qphqQ",
        "U2RJ9gkRphqQ",
        "1M8mcRywphqQ",
        "tgIPom80phqQ",
        "JMzcOPDDphqR",
        "x-EpHcCOp1ci",
        "X_VqEhTip1ck",
        "8zGJKyg5p1ck",
        "PVzmfK_Ep1ck",
        "ZWILFDl5p1ck",
        "M7G43BXep1ck",
        "E6MkPsBcp1cl",
        "2cELzS2fp1cl",
        "3MPXvC8up1cl",
        "UV0SzAkaZNRQ",
        "YPEH6qLeZNRQ",
        "EXh0U9oCveiU",
        "22aHeOlLveiV",
        "gIfDvo9L0UH2"
      ],
      "include_colab_link": true
    },
    "kernelspec": {
      "name": "python3",
      "display_name": "Python 3"
    },
    "language_info": {
      "name": "python"
    },
    "gpuClass": "standard"
  },
  "cells": [
    {
      "cell_type": "markdown",
      "metadata": {
        "id": "view-in-github",
        "colab_type": "text"
      },
      "source": [
        "<a href=\"https://colab.research.google.com/github/ShriyaChouhan/capstone-project---Play-Store-App-Review-Analysis/blob/main/Play_Store_App_Review_Analysis.ipynb\" target=\"_parent\"><img src=\"https://colab.research.google.com/assets/colab-badge.svg\" alt=\"Open In Colab\"/></a>"
      ]
    },
    {
      "cell_type": "markdown",
      "source": [
        "# **Project Name** - Play Store App Review Analysis \n",
        "\n"
      ],
      "metadata": {
        "id": "vncDsAP0Gaoa"
      }
    },
    {
      "cell_type": "markdown",
      "source": [
        "##### **Project Type**    - EDA/Regression/Classification/Unsupervised\n",
        "##### **Contribution**    - Individual"
      ],
      "metadata": {
        "id": "beRrZCGUAJYm"
      }
    },
    {
      "cell_type": "markdown",
      "source": [
        "# **Project Summary -**\n",
        "I decided to take up this project because i thought it was too easy. But, when i saw this project i didn't understand.I tried to understand the project step by step. Then I understood the project so it made sense for me. So, I gained some confidence. \n",
        "After that I started working on this project, first i saw the csv file and then understood it. I made some functions which i use in my notebook as well. In this project I explained about:- Apps names,Types of apps, most used apps, data cleaning, App categories, Rating analysis, Size and price of the app, App Reviews, Popularity of paid apps vs free apps,  Install apps , Genres.\n",
        "Play Store is also known as Google Play. It gives us a official app store. It's running on the android operating system. Google play has offering games, music, books, movies, and television programs. "
      ],
      "metadata": {
        "id": "FJNUwmbgGyua"
      }
    },
    {
      "cell_type": "markdown",
      "source": [
        "# **GitHub Link -**"
      ],
      "metadata": {
        "id": "w6K7xa23Elo4"
      }
    },
    {
      "cell_type": "markdown",
      "source": [
        "Provide your GitHub Link here."
      ],
      "metadata": {
        "id": "h1o69JH3Eqqn"
      }
    },
    {
      "cell_type": "markdown",
      "source": [
        "# **Problem Statement**\n"
      ],
      "metadata": {
        "id": "yQaldy8SH6Dl"
      }
    },
    {
      "cell_type": "markdown",
      "source": [
        "**Write Problem Statement Here.**"
      ],
      "metadata": {
        "id": "DpeJGUA3kjGy"
      }
    },
    {
      "cell_type": "markdown",
      "source": [
        "#### **Define Your Business Objective?**"
      ],
      "metadata": {
        "id": "PH-0ReGfmX4f"
      }
    },
    {
      "cell_type": "markdown",
      "source": [
        "Answer Here."
      ],
      "metadata": {
        "id": "PhDvGCAqmjP1"
      }
    },
    {
      "cell_type": "markdown",
      "source": [
        "# **General Guidelines** : -  "
      ],
      "metadata": {
        "id": "mDgbUHAGgjLW"
      }
    },
    {
      "cell_type": "markdown",
      "source": [
        "1.   Well-structured, formatted, and commented code is required. \n",
        "2.   Exception Handling, Production Grade Code & Deployment Ready Code will be a plus. Those students will be awarded some additional credits. \n",
        "     \n",
        "     The additional credits will have advantages over other students during Star Student selection.\n",
        "       \n",
        "             [ Note: - Deployment Ready Code is defined as, the whole .ipynb notebook should be executable in one go\n",
        "                       without a single error logged. ]\n",
        "\n",
        "3.   Each and every logic should have proper comments.\n",
        "4. You may add as many number of charts you want. Make Sure for each and every chart the following format should be answered.\n",
        "        \n",
        "\n",
        "```\n",
        "# Chart visualization code\n",
        "```\n",
        "            \n",
        "\n",
        "*   Why did you pick the specific chart?\n",
        "*   What is/are the insight(s) found from the chart?\n",
        "* Will the gained insights help creating a positive business impact? \n",
        "Are there any insights that lead to negative growth? Justify with specific reason.\n",
        "\n",
        "5. You have to create at least 20 logical & meaningful charts having important insights.\n",
        "\n",
        "\n",
        "[ Hints : - Do the Vizualization in  a structured way while following \"UBM\" Rule. \n",
        "\n",
        "U - Univariate Analysis,\n",
        "\n",
        "B - Bivariate Analysis (Numerical - Categorical, Numerical - Numerical, Categorical - Categorical)\n",
        "\n",
        "M - Multivariate Analysis\n",
        " ]\n",
        "\n",
        "\n",
        "\n"
      ],
      "metadata": {
        "id": "ZrxVaUj-hHfC"
      }
    },
    {
      "cell_type": "markdown",
      "source": [
        "# ***Let's Begin !***"
      ],
      "metadata": {
        "id": "O_i_v8NEhb9l"
      }
    },
    {
      "cell_type": "markdown",
      "source": [
        "## ***1. Know Your Data***"
      ],
      "metadata": {
        "id": "HhfV-JJviCcP"
      }
    },
    {
      "cell_type": "markdown",
      "source": [
        "### Import Libraries"
      ],
      "metadata": {
        "id": "Y3lxredqlCYt"
      }
    },
    {
      "cell_type": "code",
      "source": [
        "# Import Libraries\n",
        "import pandas as pd\n",
        "import numpy as np\n",
        "import matplotlib.pyplot as plt \n",
        "import seaborn as sns "
      ],
      "metadata": {
        "id": "M8Vqi-pPk-HR"
      },
      "execution_count": 2,
      "outputs": []
    },
    {
      "cell_type": "markdown",
      "source": [
        "### Dataset Loading"
      ],
      "metadata": {
        "id": "3RnN4peoiCZX"
      }
    },
    {
      "cell_type": "code",
      "source": [
        "# Load Dataset\n",
        "df = pd.read_csv (\"/content/Play Store Data.csv\")"
      ],
      "metadata": {
        "id": "4CkvbW_SlZ_R"
      },
      "execution_count": 28,
      "outputs": []
    },
    {
      "cell_type": "markdown",
      "source": [
        "### Dataset First View"
      ],
      "metadata": {
        "id": "x71ZqKXriCWQ"
      }
    },
    {
      "cell_type": "code",
      "source": [
        "# Dataset First Look\n",
        "df"
      ],
      "metadata": {
        "id": "LWNFOSvLl09H",
        "colab": {
          "base_uri": "https://localhost:8080/",
          "height": 779
        },
        "outputId": "2826a184-2f4a-489b-f5dd-f5fce771a3e5"
      },
      "execution_count": 29,
      "outputs": [
        {
          "output_type": "execute_result",
          "data": {
            "text/plain": [
              "                                                     App             Category  \\\n",
              "0         Photo Editor & Candy Camera & Grid & ScrapBook       ART_AND_DESIGN   \n",
              "1                                    Coloring book moana       ART_AND_DESIGN   \n",
              "2      U Launcher Lite – FREE Live Cool Themes, Hide ...       ART_AND_DESIGN   \n",
              "3                                  Sketch - Draw & Paint       ART_AND_DESIGN   \n",
              "4                  Pixel Draw - Number Art Coloring Book       ART_AND_DESIGN   \n",
              "...                                                  ...                  ...   \n",
              "10836                                   Sya9a Maroc - FR               FAMILY   \n",
              "10837                   Fr. Mike Schmitz Audio Teachings               FAMILY   \n",
              "10838                             Parkinson Exercices FR              MEDICAL   \n",
              "10839                      The SCP Foundation DB fr nn5n  BOOKS_AND_REFERENCE   \n",
              "10840      iHoroscope - 2018 Daily Horoscope & Astrology            LIFESTYLE   \n",
              "\n",
              "       Rating Reviews                Size     Installs  Type Price  \\\n",
              "0         4.1     159                 19M      10,000+  Free     0   \n",
              "1         3.9     967                 14M     500,000+  Free     0   \n",
              "2         4.7   87510                8.7M   5,000,000+  Free     0   \n",
              "3         4.5  215644                 25M  50,000,000+  Free     0   \n",
              "4         4.3     967                2.8M     100,000+  Free     0   \n",
              "...       ...     ...                 ...          ...   ...   ...   \n",
              "10836     4.5      38                 53M       5,000+  Free     0   \n",
              "10837     5.0       4                3.6M         100+  Free     0   \n",
              "10838     NaN       3                9.5M       1,000+  Free     0   \n",
              "10839     4.5     114  Varies with device       1,000+  Free     0   \n",
              "10840     4.5  398307                 19M  10,000,000+  Free     0   \n",
              "\n",
              "      Content Rating                     Genres      Last Updated  \\\n",
              "0           Everyone               Art & Design   January 7, 2018   \n",
              "1           Everyone  Art & Design;Pretend Play  January 15, 2018   \n",
              "2           Everyone               Art & Design    August 1, 2018   \n",
              "3               Teen               Art & Design      June 8, 2018   \n",
              "4           Everyone    Art & Design;Creativity     June 20, 2018   \n",
              "...              ...                        ...               ...   \n",
              "10836       Everyone                  Education     July 25, 2017   \n",
              "10837       Everyone                  Education      July 6, 2018   \n",
              "10838       Everyone                    Medical  January 20, 2017   \n",
              "10839     Mature 17+          Books & Reference  January 19, 2015   \n",
              "10840       Everyone                  Lifestyle     July 25, 2018   \n",
              "\n",
              "              Current Ver         Android Ver  \n",
              "0                   1.0.0        4.0.3 and up  \n",
              "1                   2.0.0        4.0.3 and up  \n",
              "2                   1.2.4        4.0.3 and up  \n",
              "3      Varies with device          4.2 and up  \n",
              "4                     1.1          4.4 and up  \n",
              "...                   ...                 ...  \n",
              "10836                1.48          4.1 and up  \n",
              "10837                   1          4.1 and up  \n",
              "10838                   1          2.2 and up  \n",
              "10839  Varies with device  Varies with device  \n",
              "10840  Varies with device  Varies with device  \n",
              "\n",
              "[10841 rows x 13 columns]"
            ],
            "text/html": [
              "\n",
              "  <div id=\"df-a0aa972d-155e-4c13-9692-00958df1d23d\">\n",
              "    <div class=\"colab-df-container\">\n",
              "      <div>\n",
              "<style scoped>\n",
              "    .dataframe tbody tr th:only-of-type {\n",
              "        vertical-align: middle;\n",
              "    }\n",
              "\n",
              "    .dataframe tbody tr th {\n",
              "        vertical-align: top;\n",
              "    }\n",
              "\n",
              "    .dataframe thead th {\n",
              "        text-align: right;\n",
              "    }\n",
              "</style>\n",
              "<table border=\"1\" class=\"dataframe\">\n",
              "  <thead>\n",
              "    <tr style=\"text-align: right;\">\n",
              "      <th></th>\n",
              "      <th>App</th>\n",
              "      <th>Category</th>\n",
              "      <th>Rating</th>\n",
              "      <th>Reviews</th>\n",
              "      <th>Size</th>\n",
              "      <th>Installs</th>\n",
              "      <th>Type</th>\n",
              "      <th>Price</th>\n",
              "      <th>Content Rating</th>\n",
              "      <th>Genres</th>\n",
              "      <th>Last Updated</th>\n",
              "      <th>Current Ver</th>\n",
              "      <th>Android Ver</th>\n",
              "    </tr>\n",
              "  </thead>\n",
              "  <tbody>\n",
              "    <tr>\n",
              "      <th>0</th>\n",
              "      <td>Photo Editor &amp; Candy Camera &amp; Grid &amp; ScrapBook</td>\n",
              "      <td>ART_AND_DESIGN</td>\n",
              "      <td>4.1</td>\n",
              "      <td>159</td>\n",
              "      <td>19M</td>\n",
              "      <td>10,000+</td>\n",
              "      <td>Free</td>\n",
              "      <td>0</td>\n",
              "      <td>Everyone</td>\n",
              "      <td>Art &amp; Design</td>\n",
              "      <td>January 7, 2018</td>\n",
              "      <td>1.0.0</td>\n",
              "      <td>4.0.3 and up</td>\n",
              "    </tr>\n",
              "    <tr>\n",
              "      <th>1</th>\n",
              "      <td>Coloring book moana</td>\n",
              "      <td>ART_AND_DESIGN</td>\n",
              "      <td>3.9</td>\n",
              "      <td>967</td>\n",
              "      <td>14M</td>\n",
              "      <td>500,000+</td>\n",
              "      <td>Free</td>\n",
              "      <td>0</td>\n",
              "      <td>Everyone</td>\n",
              "      <td>Art &amp; Design;Pretend Play</td>\n",
              "      <td>January 15, 2018</td>\n",
              "      <td>2.0.0</td>\n",
              "      <td>4.0.3 and up</td>\n",
              "    </tr>\n",
              "    <tr>\n",
              "      <th>2</th>\n",
              "      <td>U Launcher Lite – FREE Live Cool Themes, Hide ...</td>\n",
              "      <td>ART_AND_DESIGN</td>\n",
              "      <td>4.7</td>\n",
              "      <td>87510</td>\n",
              "      <td>8.7M</td>\n",
              "      <td>5,000,000+</td>\n",
              "      <td>Free</td>\n",
              "      <td>0</td>\n",
              "      <td>Everyone</td>\n",
              "      <td>Art &amp; Design</td>\n",
              "      <td>August 1, 2018</td>\n",
              "      <td>1.2.4</td>\n",
              "      <td>4.0.3 and up</td>\n",
              "    </tr>\n",
              "    <tr>\n",
              "      <th>3</th>\n",
              "      <td>Sketch - Draw &amp; Paint</td>\n",
              "      <td>ART_AND_DESIGN</td>\n",
              "      <td>4.5</td>\n",
              "      <td>215644</td>\n",
              "      <td>25M</td>\n",
              "      <td>50,000,000+</td>\n",
              "      <td>Free</td>\n",
              "      <td>0</td>\n",
              "      <td>Teen</td>\n",
              "      <td>Art &amp; Design</td>\n",
              "      <td>June 8, 2018</td>\n",
              "      <td>Varies with device</td>\n",
              "      <td>4.2 and up</td>\n",
              "    </tr>\n",
              "    <tr>\n",
              "      <th>4</th>\n",
              "      <td>Pixel Draw - Number Art Coloring Book</td>\n",
              "      <td>ART_AND_DESIGN</td>\n",
              "      <td>4.3</td>\n",
              "      <td>967</td>\n",
              "      <td>2.8M</td>\n",
              "      <td>100,000+</td>\n",
              "      <td>Free</td>\n",
              "      <td>0</td>\n",
              "      <td>Everyone</td>\n",
              "      <td>Art &amp; Design;Creativity</td>\n",
              "      <td>June 20, 2018</td>\n",
              "      <td>1.1</td>\n",
              "      <td>4.4 and up</td>\n",
              "    </tr>\n",
              "    <tr>\n",
              "      <th>...</th>\n",
              "      <td>...</td>\n",
              "      <td>...</td>\n",
              "      <td>...</td>\n",
              "      <td>...</td>\n",
              "      <td>...</td>\n",
              "      <td>...</td>\n",
              "      <td>...</td>\n",
              "      <td>...</td>\n",
              "      <td>...</td>\n",
              "      <td>...</td>\n",
              "      <td>...</td>\n",
              "      <td>...</td>\n",
              "      <td>...</td>\n",
              "    </tr>\n",
              "    <tr>\n",
              "      <th>10836</th>\n",
              "      <td>Sya9a Maroc - FR</td>\n",
              "      <td>FAMILY</td>\n",
              "      <td>4.5</td>\n",
              "      <td>38</td>\n",
              "      <td>53M</td>\n",
              "      <td>5,000+</td>\n",
              "      <td>Free</td>\n",
              "      <td>0</td>\n",
              "      <td>Everyone</td>\n",
              "      <td>Education</td>\n",
              "      <td>July 25, 2017</td>\n",
              "      <td>1.48</td>\n",
              "      <td>4.1 and up</td>\n",
              "    </tr>\n",
              "    <tr>\n",
              "      <th>10837</th>\n",
              "      <td>Fr. Mike Schmitz Audio Teachings</td>\n",
              "      <td>FAMILY</td>\n",
              "      <td>5.0</td>\n",
              "      <td>4</td>\n",
              "      <td>3.6M</td>\n",
              "      <td>100+</td>\n",
              "      <td>Free</td>\n",
              "      <td>0</td>\n",
              "      <td>Everyone</td>\n",
              "      <td>Education</td>\n",
              "      <td>July 6, 2018</td>\n",
              "      <td>1</td>\n",
              "      <td>4.1 and up</td>\n",
              "    </tr>\n",
              "    <tr>\n",
              "      <th>10838</th>\n",
              "      <td>Parkinson Exercices FR</td>\n",
              "      <td>MEDICAL</td>\n",
              "      <td>NaN</td>\n",
              "      <td>3</td>\n",
              "      <td>9.5M</td>\n",
              "      <td>1,000+</td>\n",
              "      <td>Free</td>\n",
              "      <td>0</td>\n",
              "      <td>Everyone</td>\n",
              "      <td>Medical</td>\n",
              "      <td>January 20, 2017</td>\n",
              "      <td>1</td>\n",
              "      <td>2.2 and up</td>\n",
              "    </tr>\n",
              "    <tr>\n",
              "      <th>10839</th>\n",
              "      <td>The SCP Foundation DB fr nn5n</td>\n",
              "      <td>BOOKS_AND_REFERENCE</td>\n",
              "      <td>4.5</td>\n",
              "      <td>114</td>\n",
              "      <td>Varies with device</td>\n",
              "      <td>1,000+</td>\n",
              "      <td>Free</td>\n",
              "      <td>0</td>\n",
              "      <td>Mature 17+</td>\n",
              "      <td>Books &amp; Reference</td>\n",
              "      <td>January 19, 2015</td>\n",
              "      <td>Varies with device</td>\n",
              "      <td>Varies with device</td>\n",
              "    </tr>\n",
              "    <tr>\n",
              "      <th>10840</th>\n",
              "      <td>iHoroscope - 2018 Daily Horoscope &amp; Astrology</td>\n",
              "      <td>LIFESTYLE</td>\n",
              "      <td>4.5</td>\n",
              "      <td>398307</td>\n",
              "      <td>19M</td>\n",
              "      <td>10,000,000+</td>\n",
              "      <td>Free</td>\n",
              "      <td>0</td>\n",
              "      <td>Everyone</td>\n",
              "      <td>Lifestyle</td>\n",
              "      <td>July 25, 2018</td>\n",
              "      <td>Varies with device</td>\n",
              "      <td>Varies with device</td>\n",
              "    </tr>\n",
              "  </tbody>\n",
              "</table>\n",
              "<p>10841 rows × 13 columns</p>\n",
              "</div>\n",
              "      <button class=\"colab-df-convert\" onclick=\"convertToInteractive('df-a0aa972d-155e-4c13-9692-00958df1d23d')\"\n",
              "              title=\"Convert this dataframe to an interactive table.\"\n",
              "              style=\"display:none;\">\n",
              "        \n",
              "  <svg xmlns=\"http://www.w3.org/2000/svg\" height=\"24px\"viewBox=\"0 0 24 24\"\n",
              "       width=\"24px\">\n",
              "    <path d=\"M0 0h24v24H0V0z\" fill=\"none\"/>\n",
              "    <path d=\"M18.56 5.44l.94 2.06.94-2.06 2.06-.94-2.06-.94-.94-2.06-.94 2.06-2.06.94zm-11 1L8.5 8.5l.94-2.06 2.06-.94-2.06-.94L8.5 2.5l-.94 2.06-2.06.94zm10 10l.94 2.06.94-2.06 2.06-.94-2.06-.94-.94-2.06-.94 2.06-2.06.94z\"/><path d=\"M17.41 7.96l-1.37-1.37c-.4-.4-.92-.59-1.43-.59-.52 0-1.04.2-1.43.59L10.3 9.45l-7.72 7.72c-.78.78-.78 2.05 0 2.83L4 21.41c.39.39.9.59 1.41.59.51 0 1.02-.2 1.41-.59l7.78-7.78 2.81-2.81c.8-.78.8-2.07 0-2.86zM5.41 20L4 18.59l7.72-7.72 1.47 1.35L5.41 20z\"/>\n",
              "  </svg>\n",
              "      </button>\n",
              "      \n",
              "  <style>\n",
              "    .colab-df-container {\n",
              "      display:flex;\n",
              "      flex-wrap:wrap;\n",
              "      gap: 12px;\n",
              "    }\n",
              "\n",
              "    .colab-df-convert {\n",
              "      background-color: #E8F0FE;\n",
              "      border: none;\n",
              "      border-radius: 50%;\n",
              "      cursor: pointer;\n",
              "      display: none;\n",
              "      fill: #1967D2;\n",
              "      height: 32px;\n",
              "      padding: 0 0 0 0;\n",
              "      width: 32px;\n",
              "    }\n",
              "\n",
              "    .colab-df-convert:hover {\n",
              "      background-color: #E2EBFA;\n",
              "      box-shadow: 0px 1px 2px rgba(60, 64, 67, 0.3), 0px 1px 3px 1px rgba(60, 64, 67, 0.15);\n",
              "      fill: #174EA6;\n",
              "    }\n",
              "\n",
              "    [theme=dark] .colab-df-convert {\n",
              "      background-color: #3B4455;\n",
              "      fill: #D2E3FC;\n",
              "    }\n",
              "\n",
              "    [theme=dark] .colab-df-convert:hover {\n",
              "      background-color: #434B5C;\n",
              "      box-shadow: 0px 1px 3px 1px rgba(0, 0, 0, 0.15);\n",
              "      filter: drop-shadow(0px 1px 2px rgba(0, 0, 0, 0.3));\n",
              "      fill: #FFFFFF;\n",
              "    }\n",
              "  </style>\n",
              "\n",
              "      <script>\n",
              "        const buttonEl =\n",
              "          document.querySelector('#df-a0aa972d-155e-4c13-9692-00958df1d23d button.colab-df-convert');\n",
              "        buttonEl.style.display =\n",
              "          google.colab.kernel.accessAllowed ? 'block' : 'none';\n",
              "\n",
              "        async function convertToInteractive(key) {\n",
              "          const element = document.querySelector('#df-a0aa972d-155e-4c13-9692-00958df1d23d');\n",
              "          const dataTable =\n",
              "            await google.colab.kernel.invokeFunction('convertToInteractive',\n",
              "                                                     [key], {});\n",
              "          if (!dataTable) return;\n",
              "\n",
              "          const docLinkHtml = 'Like what you see? Visit the ' +\n",
              "            '<a target=\"_blank\" href=https://colab.research.google.com/notebooks/data_table.ipynb>data table notebook</a>'\n",
              "            + ' to learn more about interactive tables.';\n",
              "          element.innerHTML = '';\n",
              "          dataTable['output_type'] = 'display_data';\n",
              "          await google.colab.output.renderOutput(dataTable, element);\n",
              "          const docLink = document.createElement('div');\n",
              "          docLink.innerHTML = docLinkHtml;\n",
              "          element.appendChild(docLink);\n",
              "        }\n",
              "      </script>\n",
              "    </div>\n",
              "  </div>\n",
              "  "
            ]
          },
          "metadata": {},
          "execution_count": 29
        }
      ]
    },
    {
      "cell_type": "code",
      "source": [
        "df.head()"
      ],
      "metadata": {
        "colab": {
          "base_uri": "https://localhost:8080/",
          "height": 354
        },
        "id": "0TaOg62tR93h",
        "outputId": "a543a62d-3b95-47f7-850e-66434eb6bc29"
      },
      "execution_count": 30,
      "outputs": [
        {
          "output_type": "execute_result",
          "data": {
            "text/plain": [
              "                                                 App        Category  Rating  \\\n",
              "0     Photo Editor & Candy Camera & Grid & ScrapBook  ART_AND_DESIGN     4.1   \n",
              "1                                Coloring book moana  ART_AND_DESIGN     3.9   \n",
              "2  U Launcher Lite – FREE Live Cool Themes, Hide ...  ART_AND_DESIGN     4.7   \n",
              "3                              Sketch - Draw & Paint  ART_AND_DESIGN     4.5   \n",
              "4              Pixel Draw - Number Art Coloring Book  ART_AND_DESIGN     4.3   \n",
              "\n",
              "  Reviews  Size     Installs  Type Price Content Rating  \\\n",
              "0     159   19M      10,000+  Free     0       Everyone   \n",
              "1     967   14M     500,000+  Free     0       Everyone   \n",
              "2   87510  8.7M   5,000,000+  Free     0       Everyone   \n",
              "3  215644   25M  50,000,000+  Free     0           Teen   \n",
              "4     967  2.8M     100,000+  Free     0       Everyone   \n",
              "\n",
              "                      Genres      Last Updated         Current Ver  \\\n",
              "0               Art & Design   January 7, 2018               1.0.0   \n",
              "1  Art & Design;Pretend Play  January 15, 2018               2.0.0   \n",
              "2               Art & Design    August 1, 2018               1.2.4   \n",
              "3               Art & Design      June 8, 2018  Varies with device   \n",
              "4    Art & Design;Creativity     June 20, 2018                 1.1   \n",
              "\n",
              "    Android Ver  \n",
              "0  4.0.3 and up  \n",
              "1  4.0.3 and up  \n",
              "2  4.0.3 and up  \n",
              "3    4.2 and up  \n",
              "4    4.4 and up  "
            ],
            "text/html": [
              "\n",
              "  <div id=\"df-76900f93-0e20-4b32-ac93-2512889eef0f\">\n",
              "    <div class=\"colab-df-container\">\n",
              "      <div>\n",
              "<style scoped>\n",
              "    .dataframe tbody tr th:only-of-type {\n",
              "        vertical-align: middle;\n",
              "    }\n",
              "\n",
              "    .dataframe tbody tr th {\n",
              "        vertical-align: top;\n",
              "    }\n",
              "\n",
              "    .dataframe thead th {\n",
              "        text-align: right;\n",
              "    }\n",
              "</style>\n",
              "<table border=\"1\" class=\"dataframe\">\n",
              "  <thead>\n",
              "    <tr style=\"text-align: right;\">\n",
              "      <th></th>\n",
              "      <th>App</th>\n",
              "      <th>Category</th>\n",
              "      <th>Rating</th>\n",
              "      <th>Reviews</th>\n",
              "      <th>Size</th>\n",
              "      <th>Installs</th>\n",
              "      <th>Type</th>\n",
              "      <th>Price</th>\n",
              "      <th>Content Rating</th>\n",
              "      <th>Genres</th>\n",
              "      <th>Last Updated</th>\n",
              "      <th>Current Ver</th>\n",
              "      <th>Android Ver</th>\n",
              "    </tr>\n",
              "  </thead>\n",
              "  <tbody>\n",
              "    <tr>\n",
              "      <th>0</th>\n",
              "      <td>Photo Editor &amp; Candy Camera &amp; Grid &amp; ScrapBook</td>\n",
              "      <td>ART_AND_DESIGN</td>\n",
              "      <td>4.1</td>\n",
              "      <td>159</td>\n",
              "      <td>19M</td>\n",
              "      <td>10,000+</td>\n",
              "      <td>Free</td>\n",
              "      <td>0</td>\n",
              "      <td>Everyone</td>\n",
              "      <td>Art &amp; Design</td>\n",
              "      <td>January 7, 2018</td>\n",
              "      <td>1.0.0</td>\n",
              "      <td>4.0.3 and up</td>\n",
              "    </tr>\n",
              "    <tr>\n",
              "      <th>1</th>\n",
              "      <td>Coloring book moana</td>\n",
              "      <td>ART_AND_DESIGN</td>\n",
              "      <td>3.9</td>\n",
              "      <td>967</td>\n",
              "      <td>14M</td>\n",
              "      <td>500,000+</td>\n",
              "      <td>Free</td>\n",
              "      <td>0</td>\n",
              "      <td>Everyone</td>\n",
              "      <td>Art &amp; Design;Pretend Play</td>\n",
              "      <td>January 15, 2018</td>\n",
              "      <td>2.0.0</td>\n",
              "      <td>4.0.3 and up</td>\n",
              "    </tr>\n",
              "    <tr>\n",
              "      <th>2</th>\n",
              "      <td>U Launcher Lite – FREE Live Cool Themes, Hide ...</td>\n",
              "      <td>ART_AND_DESIGN</td>\n",
              "      <td>4.7</td>\n",
              "      <td>87510</td>\n",
              "      <td>8.7M</td>\n",
              "      <td>5,000,000+</td>\n",
              "      <td>Free</td>\n",
              "      <td>0</td>\n",
              "      <td>Everyone</td>\n",
              "      <td>Art &amp; Design</td>\n",
              "      <td>August 1, 2018</td>\n",
              "      <td>1.2.4</td>\n",
              "      <td>4.0.3 and up</td>\n",
              "    </tr>\n",
              "    <tr>\n",
              "      <th>3</th>\n",
              "      <td>Sketch - Draw &amp; Paint</td>\n",
              "      <td>ART_AND_DESIGN</td>\n",
              "      <td>4.5</td>\n",
              "      <td>215644</td>\n",
              "      <td>25M</td>\n",
              "      <td>50,000,000+</td>\n",
              "      <td>Free</td>\n",
              "      <td>0</td>\n",
              "      <td>Teen</td>\n",
              "      <td>Art &amp; Design</td>\n",
              "      <td>June 8, 2018</td>\n",
              "      <td>Varies with device</td>\n",
              "      <td>4.2 and up</td>\n",
              "    </tr>\n",
              "    <tr>\n",
              "      <th>4</th>\n",
              "      <td>Pixel Draw - Number Art Coloring Book</td>\n",
              "      <td>ART_AND_DESIGN</td>\n",
              "      <td>4.3</td>\n",
              "      <td>967</td>\n",
              "      <td>2.8M</td>\n",
              "      <td>100,000+</td>\n",
              "      <td>Free</td>\n",
              "      <td>0</td>\n",
              "      <td>Everyone</td>\n",
              "      <td>Art &amp; Design;Creativity</td>\n",
              "      <td>June 20, 2018</td>\n",
              "      <td>1.1</td>\n",
              "      <td>4.4 and up</td>\n",
              "    </tr>\n",
              "  </tbody>\n",
              "</table>\n",
              "</div>\n",
              "      <button class=\"colab-df-convert\" onclick=\"convertToInteractive('df-76900f93-0e20-4b32-ac93-2512889eef0f')\"\n",
              "              title=\"Convert this dataframe to an interactive table.\"\n",
              "              style=\"display:none;\">\n",
              "        \n",
              "  <svg xmlns=\"http://www.w3.org/2000/svg\" height=\"24px\"viewBox=\"0 0 24 24\"\n",
              "       width=\"24px\">\n",
              "    <path d=\"M0 0h24v24H0V0z\" fill=\"none\"/>\n",
              "    <path d=\"M18.56 5.44l.94 2.06.94-2.06 2.06-.94-2.06-.94-.94-2.06-.94 2.06-2.06.94zm-11 1L8.5 8.5l.94-2.06 2.06-.94-2.06-.94L8.5 2.5l-.94 2.06-2.06.94zm10 10l.94 2.06.94-2.06 2.06-.94-2.06-.94-.94-2.06-.94 2.06-2.06.94z\"/><path d=\"M17.41 7.96l-1.37-1.37c-.4-.4-.92-.59-1.43-.59-.52 0-1.04.2-1.43.59L10.3 9.45l-7.72 7.72c-.78.78-.78 2.05 0 2.83L4 21.41c.39.39.9.59 1.41.59.51 0 1.02-.2 1.41-.59l7.78-7.78 2.81-2.81c.8-.78.8-2.07 0-2.86zM5.41 20L4 18.59l7.72-7.72 1.47 1.35L5.41 20z\"/>\n",
              "  </svg>\n",
              "      </button>\n",
              "      \n",
              "  <style>\n",
              "    .colab-df-container {\n",
              "      display:flex;\n",
              "      flex-wrap:wrap;\n",
              "      gap: 12px;\n",
              "    }\n",
              "\n",
              "    .colab-df-convert {\n",
              "      background-color: #E8F0FE;\n",
              "      border: none;\n",
              "      border-radius: 50%;\n",
              "      cursor: pointer;\n",
              "      display: none;\n",
              "      fill: #1967D2;\n",
              "      height: 32px;\n",
              "      padding: 0 0 0 0;\n",
              "      width: 32px;\n",
              "    }\n",
              "\n",
              "    .colab-df-convert:hover {\n",
              "      background-color: #E2EBFA;\n",
              "      box-shadow: 0px 1px 2px rgba(60, 64, 67, 0.3), 0px 1px 3px 1px rgba(60, 64, 67, 0.15);\n",
              "      fill: #174EA6;\n",
              "    }\n",
              "\n",
              "    [theme=dark] .colab-df-convert {\n",
              "      background-color: #3B4455;\n",
              "      fill: #D2E3FC;\n",
              "    }\n",
              "\n",
              "    [theme=dark] .colab-df-convert:hover {\n",
              "      background-color: #434B5C;\n",
              "      box-shadow: 0px 1px 3px 1px rgba(0, 0, 0, 0.15);\n",
              "      filter: drop-shadow(0px 1px 2px rgba(0, 0, 0, 0.3));\n",
              "      fill: #FFFFFF;\n",
              "    }\n",
              "  </style>\n",
              "\n",
              "      <script>\n",
              "        const buttonEl =\n",
              "          document.querySelector('#df-76900f93-0e20-4b32-ac93-2512889eef0f button.colab-df-convert');\n",
              "        buttonEl.style.display =\n",
              "          google.colab.kernel.accessAllowed ? 'block' : 'none';\n",
              "\n",
              "        async function convertToInteractive(key) {\n",
              "          const element = document.querySelector('#df-76900f93-0e20-4b32-ac93-2512889eef0f');\n",
              "          const dataTable =\n",
              "            await google.colab.kernel.invokeFunction('convertToInteractive',\n",
              "                                                     [key], {});\n",
              "          if (!dataTable) return;\n",
              "\n",
              "          const docLinkHtml = 'Like what you see? Visit the ' +\n",
              "            '<a target=\"_blank\" href=https://colab.research.google.com/notebooks/data_table.ipynb>data table notebook</a>'\n",
              "            + ' to learn more about interactive tables.';\n",
              "          element.innerHTML = '';\n",
              "          dataTable['output_type'] = 'display_data';\n",
              "          await google.colab.output.renderOutput(dataTable, element);\n",
              "          const docLink = document.createElement('div');\n",
              "          docLink.innerHTML = docLinkHtml;\n",
              "          element.appendChild(docLink);\n",
              "        }\n",
              "      </script>\n",
              "    </div>\n",
              "  </div>\n",
              "  "
            ]
          },
          "metadata": {},
          "execution_count": 30
        }
      ]
    },
    {
      "cell_type": "code",
      "source": [
        "df.tail()"
      ],
      "metadata": {
        "colab": {
          "base_uri": "https://localhost:8080/",
          "height": 389
        },
        "id": "P-GSojGzSA_z",
        "outputId": "674a314b-ca7d-462d-a76b-187ae6fa39eb"
      },
      "execution_count": 31,
      "outputs": [
        {
          "output_type": "execute_result",
          "data": {
            "text/plain": [
              "                                                 App             Category  \\\n",
              "10836                               Sya9a Maroc - FR               FAMILY   \n",
              "10837               Fr. Mike Schmitz Audio Teachings               FAMILY   \n",
              "10838                         Parkinson Exercices FR              MEDICAL   \n",
              "10839                  The SCP Foundation DB fr nn5n  BOOKS_AND_REFERENCE   \n",
              "10840  iHoroscope - 2018 Daily Horoscope & Astrology            LIFESTYLE   \n",
              "\n",
              "       Rating Reviews                Size     Installs  Type Price  \\\n",
              "10836     4.5      38                 53M       5,000+  Free     0   \n",
              "10837     5.0       4                3.6M         100+  Free     0   \n",
              "10838     NaN       3                9.5M       1,000+  Free     0   \n",
              "10839     4.5     114  Varies with device       1,000+  Free     0   \n",
              "10840     4.5  398307                 19M  10,000,000+  Free     0   \n",
              "\n",
              "      Content Rating             Genres      Last Updated         Current Ver  \\\n",
              "10836       Everyone          Education     July 25, 2017                1.48   \n",
              "10837       Everyone          Education      July 6, 2018                   1   \n",
              "10838       Everyone            Medical  January 20, 2017                   1   \n",
              "10839     Mature 17+  Books & Reference  January 19, 2015  Varies with device   \n",
              "10840       Everyone          Lifestyle     July 25, 2018  Varies with device   \n",
              "\n",
              "              Android Ver  \n",
              "10836          4.1 and up  \n",
              "10837          4.1 and up  \n",
              "10838          2.2 and up  \n",
              "10839  Varies with device  \n",
              "10840  Varies with device  "
            ],
            "text/html": [
              "\n",
              "  <div id=\"df-d3227eac-dc3e-492b-9314-9251a37eb6ff\">\n",
              "    <div class=\"colab-df-container\">\n",
              "      <div>\n",
              "<style scoped>\n",
              "    .dataframe tbody tr th:only-of-type {\n",
              "        vertical-align: middle;\n",
              "    }\n",
              "\n",
              "    .dataframe tbody tr th {\n",
              "        vertical-align: top;\n",
              "    }\n",
              "\n",
              "    .dataframe thead th {\n",
              "        text-align: right;\n",
              "    }\n",
              "</style>\n",
              "<table border=\"1\" class=\"dataframe\">\n",
              "  <thead>\n",
              "    <tr style=\"text-align: right;\">\n",
              "      <th></th>\n",
              "      <th>App</th>\n",
              "      <th>Category</th>\n",
              "      <th>Rating</th>\n",
              "      <th>Reviews</th>\n",
              "      <th>Size</th>\n",
              "      <th>Installs</th>\n",
              "      <th>Type</th>\n",
              "      <th>Price</th>\n",
              "      <th>Content Rating</th>\n",
              "      <th>Genres</th>\n",
              "      <th>Last Updated</th>\n",
              "      <th>Current Ver</th>\n",
              "      <th>Android Ver</th>\n",
              "    </tr>\n",
              "  </thead>\n",
              "  <tbody>\n",
              "    <tr>\n",
              "      <th>10836</th>\n",
              "      <td>Sya9a Maroc - FR</td>\n",
              "      <td>FAMILY</td>\n",
              "      <td>4.5</td>\n",
              "      <td>38</td>\n",
              "      <td>53M</td>\n",
              "      <td>5,000+</td>\n",
              "      <td>Free</td>\n",
              "      <td>0</td>\n",
              "      <td>Everyone</td>\n",
              "      <td>Education</td>\n",
              "      <td>July 25, 2017</td>\n",
              "      <td>1.48</td>\n",
              "      <td>4.1 and up</td>\n",
              "    </tr>\n",
              "    <tr>\n",
              "      <th>10837</th>\n",
              "      <td>Fr. Mike Schmitz Audio Teachings</td>\n",
              "      <td>FAMILY</td>\n",
              "      <td>5.0</td>\n",
              "      <td>4</td>\n",
              "      <td>3.6M</td>\n",
              "      <td>100+</td>\n",
              "      <td>Free</td>\n",
              "      <td>0</td>\n",
              "      <td>Everyone</td>\n",
              "      <td>Education</td>\n",
              "      <td>July 6, 2018</td>\n",
              "      <td>1</td>\n",
              "      <td>4.1 and up</td>\n",
              "    </tr>\n",
              "    <tr>\n",
              "      <th>10838</th>\n",
              "      <td>Parkinson Exercices FR</td>\n",
              "      <td>MEDICAL</td>\n",
              "      <td>NaN</td>\n",
              "      <td>3</td>\n",
              "      <td>9.5M</td>\n",
              "      <td>1,000+</td>\n",
              "      <td>Free</td>\n",
              "      <td>0</td>\n",
              "      <td>Everyone</td>\n",
              "      <td>Medical</td>\n",
              "      <td>January 20, 2017</td>\n",
              "      <td>1</td>\n",
              "      <td>2.2 and up</td>\n",
              "    </tr>\n",
              "    <tr>\n",
              "      <th>10839</th>\n",
              "      <td>The SCP Foundation DB fr nn5n</td>\n",
              "      <td>BOOKS_AND_REFERENCE</td>\n",
              "      <td>4.5</td>\n",
              "      <td>114</td>\n",
              "      <td>Varies with device</td>\n",
              "      <td>1,000+</td>\n",
              "      <td>Free</td>\n",
              "      <td>0</td>\n",
              "      <td>Mature 17+</td>\n",
              "      <td>Books &amp; Reference</td>\n",
              "      <td>January 19, 2015</td>\n",
              "      <td>Varies with device</td>\n",
              "      <td>Varies with device</td>\n",
              "    </tr>\n",
              "    <tr>\n",
              "      <th>10840</th>\n",
              "      <td>iHoroscope - 2018 Daily Horoscope &amp; Astrology</td>\n",
              "      <td>LIFESTYLE</td>\n",
              "      <td>4.5</td>\n",
              "      <td>398307</td>\n",
              "      <td>19M</td>\n",
              "      <td>10,000,000+</td>\n",
              "      <td>Free</td>\n",
              "      <td>0</td>\n",
              "      <td>Everyone</td>\n",
              "      <td>Lifestyle</td>\n",
              "      <td>July 25, 2018</td>\n",
              "      <td>Varies with device</td>\n",
              "      <td>Varies with device</td>\n",
              "    </tr>\n",
              "  </tbody>\n",
              "</table>\n",
              "</div>\n",
              "      <button class=\"colab-df-convert\" onclick=\"convertToInteractive('df-d3227eac-dc3e-492b-9314-9251a37eb6ff')\"\n",
              "              title=\"Convert this dataframe to an interactive table.\"\n",
              "              style=\"display:none;\">\n",
              "        \n",
              "  <svg xmlns=\"http://www.w3.org/2000/svg\" height=\"24px\"viewBox=\"0 0 24 24\"\n",
              "       width=\"24px\">\n",
              "    <path d=\"M0 0h24v24H0V0z\" fill=\"none\"/>\n",
              "    <path d=\"M18.56 5.44l.94 2.06.94-2.06 2.06-.94-2.06-.94-.94-2.06-.94 2.06-2.06.94zm-11 1L8.5 8.5l.94-2.06 2.06-.94-2.06-.94L8.5 2.5l-.94 2.06-2.06.94zm10 10l.94 2.06.94-2.06 2.06-.94-2.06-.94-.94-2.06-.94 2.06-2.06.94z\"/><path d=\"M17.41 7.96l-1.37-1.37c-.4-.4-.92-.59-1.43-.59-.52 0-1.04.2-1.43.59L10.3 9.45l-7.72 7.72c-.78.78-.78 2.05 0 2.83L4 21.41c.39.39.9.59 1.41.59.51 0 1.02-.2 1.41-.59l7.78-7.78 2.81-2.81c.8-.78.8-2.07 0-2.86zM5.41 20L4 18.59l7.72-7.72 1.47 1.35L5.41 20z\"/>\n",
              "  </svg>\n",
              "      </button>\n",
              "      \n",
              "  <style>\n",
              "    .colab-df-container {\n",
              "      display:flex;\n",
              "      flex-wrap:wrap;\n",
              "      gap: 12px;\n",
              "    }\n",
              "\n",
              "    .colab-df-convert {\n",
              "      background-color: #E8F0FE;\n",
              "      border: none;\n",
              "      border-radius: 50%;\n",
              "      cursor: pointer;\n",
              "      display: none;\n",
              "      fill: #1967D2;\n",
              "      height: 32px;\n",
              "      padding: 0 0 0 0;\n",
              "      width: 32px;\n",
              "    }\n",
              "\n",
              "    .colab-df-convert:hover {\n",
              "      background-color: #E2EBFA;\n",
              "      box-shadow: 0px 1px 2px rgba(60, 64, 67, 0.3), 0px 1px 3px 1px rgba(60, 64, 67, 0.15);\n",
              "      fill: #174EA6;\n",
              "    }\n",
              "\n",
              "    [theme=dark] .colab-df-convert {\n",
              "      background-color: #3B4455;\n",
              "      fill: #D2E3FC;\n",
              "    }\n",
              "\n",
              "    [theme=dark] .colab-df-convert:hover {\n",
              "      background-color: #434B5C;\n",
              "      box-shadow: 0px 1px 3px 1px rgba(0, 0, 0, 0.15);\n",
              "      filter: drop-shadow(0px 1px 2px rgba(0, 0, 0, 0.3));\n",
              "      fill: #FFFFFF;\n",
              "    }\n",
              "  </style>\n",
              "\n",
              "      <script>\n",
              "        const buttonEl =\n",
              "          document.querySelector('#df-d3227eac-dc3e-492b-9314-9251a37eb6ff button.colab-df-convert');\n",
              "        buttonEl.style.display =\n",
              "          google.colab.kernel.accessAllowed ? 'block' : 'none';\n",
              "\n",
              "        async function convertToInteractive(key) {\n",
              "          const element = document.querySelector('#df-d3227eac-dc3e-492b-9314-9251a37eb6ff');\n",
              "          const dataTable =\n",
              "            await google.colab.kernel.invokeFunction('convertToInteractive',\n",
              "                                                     [key], {});\n",
              "          if (!dataTable) return;\n",
              "\n",
              "          const docLinkHtml = 'Like what you see? Visit the ' +\n",
              "            '<a target=\"_blank\" href=https://colab.research.google.com/notebooks/data_table.ipynb>data table notebook</a>'\n",
              "            + ' to learn more about interactive tables.';\n",
              "          element.innerHTML = '';\n",
              "          dataTable['output_type'] = 'display_data';\n",
              "          await google.colab.output.renderOutput(dataTable, element);\n",
              "          const docLink = document.createElement('div');\n",
              "          docLink.innerHTML = docLinkHtml;\n",
              "          element.appendChild(docLink);\n",
              "        }\n",
              "      </script>\n",
              "    </div>\n",
              "  </div>\n",
              "  "
            ]
          },
          "metadata": {},
          "execution_count": 31
        }
      ]
    },
    {
      "cell_type": "markdown",
      "source": [
        "### Dataset Rows & Columns count"
      ],
      "metadata": {
        "id": "7hBIi_osiCS2"
      }
    },
    {
      "cell_type": "code",
      "source": [
        "rows = len(df.axes[0])\n",
        "rows"
      ],
      "metadata": {
        "colab": {
          "base_uri": "https://localhost:8080/"
        },
        "id": "BFBKcWeMUNWu",
        "outputId": "ea670b33-5b9a-4c56-9918-4ff7d2a70353"
      },
      "execution_count": 36,
      "outputs": [
        {
          "output_type": "execute_result",
          "data": {
            "text/plain": [
              "10841"
            ]
          },
          "metadata": {},
          "execution_count": 36
        }
      ]
    },
    {
      "cell_type": "code",
      "source": [
        "colms = len(df.axes[1])\n",
        "colms"
      ],
      "metadata": {
        "colab": {
          "base_uri": "https://localhost:8080/"
        },
        "id": "YC3_3nbUUZcd",
        "outputId": "e7c0c785-4a3a-40b3-f80f-3be49d99a424"
      },
      "execution_count": 38,
      "outputs": [
        {
          "output_type": "execute_result",
          "data": {
            "text/plain": [
              "13"
            ]
          },
          "metadata": {},
          "execution_count": 38
        }
      ]
    },
    {
      "cell_type": "markdown",
      "source": [
        "### Dataset Information"
      ],
      "metadata": {
        "id": "JlHwYmJAmNHm"
      }
    },
    {
      "cell_type": "code",
      "source": [
        "# Dataset Info\n",
        "df.info()"
      ],
      "metadata": {
        "id": "e9hRXRi6meOf",
        "colab": {
          "base_uri": "https://localhost:8080/"
        },
        "outputId": "eef29e1a-a2c8-4c74-9741-11a568e36bb1"
      },
      "execution_count": 39,
      "outputs": [
        {
          "output_type": "stream",
          "name": "stdout",
          "text": [
            "<class 'pandas.core.frame.DataFrame'>\n",
            "RangeIndex: 10841 entries, 0 to 10840\n",
            "Data columns (total 13 columns):\n",
            " #   Column          Non-Null Count  Dtype  \n",
            "---  ------          --------------  -----  \n",
            " 0   App             10841 non-null  object \n",
            " 1   Category        10841 non-null  object \n",
            " 2   Rating          9367 non-null   float64\n",
            " 3   Reviews         10841 non-null  object \n",
            " 4   Size            10841 non-null  object \n",
            " 5   Installs        10841 non-null  object \n",
            " 6   Type            10840 non-null  object \n",
            " 7   Price           10841 non-null  object \n",
            " 8   Content Rating  10840 non-null  object \n",
            " 9   Genres          10841 non-null  object \n",
            " 10  Last Updated    10841 non-null  object \n",
            " 11  Current Ver     10833 non-null  object \n",
            " 12  Android Ver     10838 non-null  object \n",
            "dtypes: float64(1), object(12)\n",
            "memory usage: 1.1+ MB\n"
          ]
        }
      ]
    },
    {
      "cell_type": "markdown",
      "source": [
        "#### Duplicate Values"
      ],
      "metadata": {
        "id": "35m5QtbWiB9F"
      }
    },
    {
      "cell_type": "code",
      "source": [
        "# Dataset Duplicate Value Count\n",
        "print(df.duplicated().sum())"
      ],
      "metadata": {
        "id": "1sLdpKYkmox0",
        "colab": {
          "base_uri": "https://localhost:8080/"
        },
        "outputId": "979cdb92-b42d-4572-e57b-b32e1cba955b"
      },
      "execution_count": 69,
      "outputs": [
        {
          "output_type": "stream",
          "name": "stdout",
          "text": [
            "483\n"
          ]
        }
      ]
    },
    {
      "cell_type": "markdown",
      "source": [
        "#### Missing Values/Null Values"
      ],
      "metadata": {
        "id": "PoPl-ycgm1ru"
      }
    },
    {
      "cell_type": "code",
      "source": [
        "# Missing Values/Null Values Count\n",
        "print(df.isnull().sum())"
      ],
      "metadata": {
        "id": "GgHWkxvamxVg",
        "colab": {
          "base_uri": "https://localhost:8080/"
        },
        "outputId": "24065403-0a93-4d81-ece7-082073f60e33"
      },
      "execution_count": 41,
      "outputs": [
        {
          "output_type": "stream",
          "name": "stdout",
          "text": [
            "App                  0\n",
            "Category             0\n",
            "Rating            1474\n",
            "Reviews              0\n",
            "Size                 0\n",
            "Installs             0\n",
            "Type                 1\n",
            "Price                0\n",
            "Content Rating       1\n",
            "Genres               0\n",
            "Last Updated         0\n",
            "Current Ver          8\n",
            "Android Ver          3\n",
            "dtype: int64\n"
          ]
        }
      ]
    },
    {
      "cell_type": "code",
      "source": [
        "# Visualizing the missing values\n",
        "print(df.isnull().values.sum())"
      ],
      "metadata": {
        "id": "3q5wnI3om9sJ",
        "colab": {
          "base_uri": "https://localhost:8080/"
        },
        "outputId": "ef806096-effa-46da-ab42-e153c9eee0d2"
      },
      "execution_count": 42,
      "outputs": [
        {
          "output_type": "stream",
          "name": "stdout",
          "text": [
            "1487\n"
          ]
        }
      ]
    },
    {
      "cell_type": "markdown",
      "source": [
        "### What did you know about your dataset?"
      ],
      "metadata": {
        "id": "H0kj-8xxnORC"
      }
    },
    {
      "cell_type": "markdown",
      "source": [
        "# `Answer` In my dataset each app has values for categories, rating, size, and more. \n",
        "\n",
        "\n"
      ],
      "metadata": {
        "id": "gfoNAAC-nUe_"
      }
    },
    {
      "cell_type": "markdown",
      "source": [
        "## ***2. Understanding Your Variables***"
      ],
      "metadata": {
        "id": "nA9Y7ga8ng1Z"
      }
    },
    {
      "cell_type": "code",
      "source": [
        "# Dataset Columns\n",
        "list(df.columns)"
      ],
      "metadata": {
        "id": "j7xfkqrt5Ag5",
        "colab": {
          "base_uri": "https://localhost:8080/"
        },
        "outputId": "da2873dd-2eb6-4320-c79f-0a14cfcb37e4"
      },
      "execution_count": 51,
      "outputs": [
        {
          "output_type": "execute_result",
          "data": {
            "text/plain": [
              "['App',\n",
              " 'Category',\n",
              " 'Rating',\n",
              " 'Reviews',\n",
              " 'Size',\n",
              " 'Installs',\n",
              " 'Type',\n",
              " 'Price',\n",
              " 'Content Rating',\n",
              " 'Genres',\n",
              " 'Last Updated',\n",
              " 'Current Ver',\n",
              " 'Android Ver']"
            ]
          },
          "metadata": {},
          "execution_count": 51
        }
      ]
    },
    {
      "cell_type": "code",
      "source": [
        "# Dataset Describe\n",
        "df.describe()"
      ],
      "metadata": {
        "id": "DnOaZdaE5Q5t",
        "colab": {
          "base_uri": "https://localhost:8080/",
          "height": 300
        },
        "outputId": "6d5a187b-43a0-4cd5-c988-63ceb841cace"
      },
      "execution_count": 52,
      "outputs": [
        {
          "output_type": "execute_result",
          "data": {
            "text/plain": [
              "            Rating\n",
              "count  9367.000000\n",
              "mean      4.193338\n",
              "std       0.537431\n",
              "min       1.000000\n",
              "25%       4.000000\n",
              "50%       4.300000\n",
              "75%       4.500000\n",
              "max      19.000000"
            ],
            "text/html": [
              "\n",
              "  <div id=\"df-b5cbe42e-a6ac-4e01-bcb5-1aee40e18d92\">\n",
              "    <div class=\"colab-df-container\">\n",
              "      <div>\n",
              "<style scoped>\n",
              "    .dataframe tbody tr th:only-of-type {\n",
              "        vertical-align: middle;\n",
              "    }\n",
              "\n",
              "    .dataframe tbody tr th {\n",
              "        vertical-align: top;\n",
              "    }\n",
              "\n",
              "    .dataframe thead th {\n",
              "        text-align: right;\n",
              "    }\n",
              "</style>\n",
              "<table border=\"1\" class=\"dataframe\">\n",
              "  <thead>\n",
              "    <tr style=\"text-align: right;\">\n",
              "      <th></th>\n",
              "      <th>Rating</th>\n",
              "    </tr>\n",
              "  </thead>\n",
              "  <tbody>\n",
              "    <tr>\n",
              "      <th>count</th>\n",
              "      <td>9367.000000</td>\n",
              "    </tr>\n",
              "    <tr>\n",
              "      <th>mean</th>\n",
              "      <td>4.193338</td>\n",
              "    </tr>\n",
              "    <tr>\n",
              "      <th>std</th>\n",
              "      <td>0.537431</td>\n",
              "    </tr>\n",
              "    <tr>\n",
              "      <th>min</th>\n",
              "      <td>1.000000</td>\n",
              "    </tr>\n",
              "    <tr>\n",
              "      <th>25%</th>\n",
              "      <td>4.000000</td>\n",
              "    </tr>\n",
              "    <tr>\n",
              "      <th>50%</th>\n",
              "      <td>4.300000</td>\n",
              "    </tr>\n",
              "    <tr>\n",
              "      <th>75%</th>\n",
              "      <td>4.500000</td>\n",
              "    </tr>\n",
              "    <tr>\n",
              "      <th>max</th>\n",
              "      <td>19.000000</td>\n",
              "    </tr>\n",
              "  </tbody>\n",
              "</table>\n",
              "</div>\n",
              "      <button class=\"colab-df-convert\" onclick=\"convertToInteractive('df-b5cbe42e-a6ac-4e01-bcb5-1aee40e18d92')\"\n",
              "              title=\"Convert this dataframe to an interactive table.\"\n",
              "              style=\"display:none;\">\n",
              "        \n",
              "  <svg xmlns=\"http://www.w3.org/2000/svg\" height=\"24px\"viewBox=\"0 0 24 24\"\n",
              "       width=\"24px\">\n",
              "    <path d=\"M0 0h24v24H0V0z\" fill=\"none\"/>\n",
              "    <path d=\"M18.56 5.44l.94 2.06.94-2.06 2.06-.94-2.06-.94-.94-2.06-.94 2.06-2.06.94zm-11 1L8.5 8.5l.94-2.06 2.06-.94-2.06-.94L8.5 2.5l-.94 2.06-2.06.94zm10 10l.94 2.06.94-2.06 2.06-.94-2.06-.94-.94-2.06-.94 2.06-2.06.94z\"/><path d=\"M17.41 7.96l-1.37-1.37c-.4-.4-.92-.59-1.43-.59-.52 0-1.04.2-1.43.59L10.3 9.45l-7.72 7.72c-.78.78-.78 2.05 0 2.83L4 21.41c.39.39.9.59 1.41.59.51 0 1.02-.2 1.41-.59l7.78-7.78 2.81-2.81c.8-.78.8-2.07 0-2.86zM5.41 20L4 18.59l7.72-7.72 1.47 1.35L5.41 20z\"/>\n",
              "  </svg>\n",
              "      </button>\n",
              "      \n",
              "  <style>\n",
              "    .colab-df-container {\n",
              "      display:flex;\n",
              "      flex-wrap:wrap;\n",
              "      gap: 12px;\n",
              "    }\n",
              "\n",
              "    .colab-df-convert {\n",
              "      background-color: #E8F0FE;\n",
              "      border: none;\n",
              "      border-radius: 50%;\n",
              "      cursor: pointer;\n",
              "      display: none;\n",
              "      fill: #1967D2;\n",
              "      height: 32px;\n",
              "      padding: 0 0 0 0;\n",
              "      width: 32px;\n",
              "    }\n",
              "\n",
              "    .colab-df-convert:hover {\n",
              "      background-color: #E2EBFA;\n",
              "      box-shadow: 0px 1px 2px rgba(60, 64, 67, 0.3), 0px 1px 3px 1px rgba(60, 64, 67, 0.15);\n",
              "      fill: #174EA6;\n",
              "    }\n",
              "\n",
              "    [theme=dark] .colab-df-convert {\n",
              "      background-color: #3B4455;\n",
              "      fill: #D2E3FC;\n",
              "    }\n",
              "\n",
              "    [theme=dark] .colab-df-convert:hover {\n",
              "      background-color: #434B5C;\n",
              "      box-shadow: 0px 1px 3px 1px rgba(0, 0, 0, 0.15);\n",
              "      filter: drop-shadow(0px 1px 2px rgba(0, 0, 0, 0.3));\n",
              "      fill: #FFFFFF;\n",
              "    }\n",
              "  </style>\n",
              "\n",
              "      <script>\n",
              "        const buttonEl =\n",
              "          document.querySelector('#df-b5cbe42e-a6ac-4e01-bcb5-1aee40e18d92 button.colab-df-convert');\n",
              "        buttonEl.style.display =\n",
              "          google.colab.kernel.accessAllowed ? 'block' : 'none';\n",
              "\n",
              "        async function convertToInteractive(key) {\n",
              "          const element = document.querySelector('#df-b5cbe42e-a6ac-4e01-bcb5-1aee40e18d92');\n",
              "          const dataTable =\n",
              "            await google.colab.kernel.invokeFunction('convertToInteractive',\n",
              "                                                     [key], {});\n",
              "          if (!dataTable) return;\n",
              "\n",
              "          const docLinkHtml = 'Like what you see? Visit the ' +\n",
              "            '<a target=\"_blank\" href=https://colab.research.google.com/notebooks/data_table.ipynb>data table notebook</a>'\n",
              "            + ' to learn more about interactive tables.';\n",
              "          element.innerHTML = '';\n",
              "          dataTable['output_type'] = 'display_data';\n",
              "          await google.colab.output.renderOutput(dataTable, element);\n",
              "          const docLink = document.createElement('div');\n",
              "          docLink.innerHTML = docLinkHtml;\n",
              "          element.appendChild(docLink);\n",
              "        }\n",
              "      </script>\n",
              "    </div>\n",
              "  </div>\n",
              "  "
            ]
          },
          "metadata": {},
          "execution_count": 52
        }
      ]
    },
    {
      "cell_type": "markdown",
      "source": [
        "### Variables Description "
      ],
      "metadata": {
        "id": "PBTbrJXOngz2"
      }
    },
    {
      "cell_type": "markdown",
      "source": [
        "# Variables is a containers that store values. We do not need to declare variables before using them or declare their type. A variaable is created the moment we first assign a value to it. A variable is a name given to a memory location. It is the basic unit of storage in a program. "
      ],
      "metadata": {
        "id": "aJV4KIxSnxay"
      }
    },
    {
      "cell_type": "markdown",
      "source": [
        "### Check Unique Values for each variable."
      ],
      "metadata": {
        "id": "u3PMJOP6ngxN"
      }
    },
    {
      "cell_type": "code",
      "source": [
        "# Check Unique Values for each variable.\n",
        "list(df['App'].unique())"
      ],
      "metadata": {
        "id": "zms12Yq5n-jE",
        "colab": {
          "base_uri": "https://localhost:8080/"
        },
        "outputId": "79a1a43c-3d1c-40e2-d8d5-214fd8590b3a"
      },
      "execution_count": 62,
      "outputs": [
        {
          "output_type": "execute_result",
          "data": {
            "text/plain": [
              "['Photo Editor & Candy Camera & Grid & ScrapBook',\n",
              " 'Coloring book moana',\n",
              " 'U Launcher Lite – FREE Live Cool Themes, Hide Apps',\n",
              " 'Sketch - Draw & Paint',\n",
              " 'Pixel Draw - Number Art Coloring Book',\n",
              " 'Paper flowers instructions',\n",
              " 'Smoke Effect Photo Maker - Smoke Editor',\n",
              " 'Infinite Painter',\n",
              " 'Garden Coloring Book',\n",
              " 'Kids Paint Free - Drawing Fun',\n",
              " 'Text on Photo - Fonteee',\n",
              " 'Name Art Photo Editor - Focus n Filters',\n",
              " 'Tattoo Name On My Photo Editor',\n",
              " 'Mandala Coloring Book',\n",
              " '3D Color Pixel by Number - Sandbox Art Coloring',\n",
              " 'Learn To Draw Kawaii Characters',\n",
              " 'Photo Designer - Write your name with shapes',\n",
              " '350 Diy Room Decor Ideas',\n",
              " 'FlipaClip - Cartoon animation',\n",
              " 'ibis Paint X',\n",
              " 'Logo Maker - Small Business',\n",
              " \"Boys Photo Editor - Six Pack & Men's Suit\",\n",
              " 'Superheroes Wallpapers | 4K Backgrounds',\n",
              " 'Mcqueen Coloring pages',\n",
              " 'HD Mickey Minnie Wallpapers',\n",
              " 'Harley Quinn wallpapers HD',\n",
              " 'Colorfit - Drawing & Coloring',\n",
              " 'Animated Photo Editor',\n",
              " 'Pencil Sketch Drawing',\n",
              " 'Easy Realistic Drawing Tutorial',\n",
              " 'Pink Silver Bow Keyboard Theme',\n",
              " 'Art Drawing Ideas',\n",
              " 'Anime Manga Coloring Book',\n",
              " 'Easy Origami Ideas',\n",
              " 'I Creative Idea',\n",
              " 'How to draw Ladybug and Cat Noir',\n",
              " 'UNICORN - Color By Number & Pixel Art Coloring',\n",
              " 'Floor Plan Creator',\n",
              " 'PIP Camera - PIP Collage Maker',\n",
              " 'How To Color Disney Princess - Coloring Pages',\n",
              " 'Drawing Clothes Fashion Ideas',\n",
              " 'Sad Poetry Photo Frames 2018',\n",
              " 'Textgram - write on photos',\n",
              " 'Paint Splash!',\n",
              " 'Popsicle Sticks and Similar DIY Craft Ideas',\n",
              " 'Canva: Poster, banner, card maker & graphic design',\n",
              " 'Install images with music to make video without Net - 2018',\n",
              " 'Little Teddy Bear Colouring Book Game',\n",
              " 'How To Draw Food',\n",
              " 'Monster Truck Stunt 3D 2019',\n",
              " 'Real Tractor Farming',\n",
              " 'Ultimate F1 Racing Championship',\n",
              " 'Used Cars and Trucks for Sale',\n",
              " 'American Muscle Car Race',\n",
              " 'Offroad Oil Tanker Driver Transport Truck 2019',\n",
              " 'Tickets SDA 2018 and Exam from the State Traffic Safety Inspectorate with Drom.ru',\n",
              " 'Gas Prices (Germany only)',\n",
              " 'Extreme Rally Championship',\n",
              " 'Restart Navigator',\n",
              " 'REG - Check the regnumber, find information about Swedish vehicles',\n",
              " 'CityBus Lviv',\n",
              " 'CDL Practice Test 2018 Edition',\n",
              " 'ezETC (ETC balance inquiry, meter trial, real-time traffic)',\n",
              " 'Free VIN Report for Used Cars',\n",
              " 'DMV Permit Practice Test 2018 Edition',\n",
              " 'Check Vehicle Tax',\n",
              " 'Used Cars Mexico',\n",
              " 'Ulysse Speedometer',\n",
              " 'REPUVE',\n",
              " 'Used cars for sale - Trovit',\n",
              " 'Fines of the State Traffic Safety Inspectorate are official: inspection, payment of fines',\n",
              " 'SK Enca Direct Malls - Used Cars Search',\n",
              " 'Android Auto - Maps, Media, Messaging & Voice',\n",
              " 'PDD-UA',\n",
              " 'Tickets SDA 2019 + Exam RF',\n",
              " 'Super Cars Wallpapers And Backgrounds',\n",
              " 'Police Lights, Sirens & Follow Me',\n",
              " 'Police Detector (Speed Camera Radar)',\n",
              " 'Best Car Wallpapers',\n",
              " 'Tickets + PDA 2018 Exam',\n",
              " 'Pick Your Part Garage',\n",
              " 'PakWheels: Buy & Sell Cars',\n",
              " 'Supervision service',\n",
              " 'Speed Camera Detector - Traffic & Speed Alert',\n",
              " 'Used car search Goo net whole car Go to net',\n",
              " 'CarMax – Cars for Sale: Search Used Car Inventory',\n",
              " 'BEST CAR SOUNDS',\n",
              " 'RST - Sale of cars on the PCT',\n",
              " 'AutoScout24 Switzerland – Find your new car',\n",
              " 'Zona Azul Digital Fácil SP CET - OFFICIAL São Paulo',\n",
              " 'SMS Park',\n",
              " 'SKencar',\n",
              " 'Fuelio: Gas log & costs',\n",
              " 'auto fines',\n",
              " 'Used car is the first car - used car purchase, used car quotation, dealer information to',\n",
              " 'All of the parking lot - National Park application (parking lot search / parking sharing / discount payment)',\n",
              " 'Inquiry Fines and Debits of Vehicles',\n",
              " 'Gas Station',\n",
              " 'Hush - Beauty for Everyone',\n",
              " 'ipsy: Makeup, Beauty, and Tips',\n",
              " 'Natural recipes for your beauty',\n",
              " 'BestCam Selfie-selfie, beauty camera, photo editor',\n",
              " 'Mirror - Zoom & Exposure -',\n",
              " 'Beauty Selfie Camera',\n",
              " 'Hairstyles step by step',\n",
              " 'Filters for Selfie',\n",
              " 'Tie - Always be happy',\n",
              " 'Ulta Beauty',\n",
              " 'Prom MakeUp Tutorial',\n",
              " 'Selfie Camera',\n",
              " 'Sweet Selfie Beauty Camera',\n",
              " 'Colors of white in Urdu',\n",
              " 'Selfie Camera Photo Editor & Filter & Sticker',\n",
              " 'Wrinkles and rejuvenation',\n",
              " 'Eyes Makeup Beauty Tips',\n",
              " 'Photo Editor 2018',\n",
              " 'Step By Step Eyes Makeup Tutorial',\n",
              " 'Beauty Camera - Selfie Camera',\n",
              " 'Girls Hairstyles',\n",
              " 'Mirror Camera (Mirror + Selfie Camera)',\n",
              " 'Beauty Tips - Beauty Tips in Sinhala',\n",
              " 'Haircut Tutorials/Haircut Videos',\n",
              " 'Sephora: Skin Care, Beauty Makeup & Fragrance Shop',\n",
              " 'Manicure - nail design',\n",
              " 'Sticker Camera - Selfie Filters, Beauty Camera',\n",
              " 'Filters for B Live',\n",
              " 'Skin Care and Natural Beauty',\n",
              " 'Facial Wrinkle Reduction',\n",
              " 'Makeup Videos',\n",
              " 'Secrets of beauty, youth and health',\n",
              " 'Recipes and tips for losing weight',\n",
              " 'Discover Color',\n",
              " 'Eyeliner step by step 2018',\n",
              " 'Dresses Ideas & Fashions +3000',\n",
              " 'Lady adviser (beauty, health)',\n",
              " 'Step By Step Hairstyles For Women',\n",
              " 'Rainbow Camera',\n",
              " 'Methods of teeth whitening',\n",
              " 'Girls hairstyles 2018',\n",
              " 'Wattpad 📖 Free Books',\n",
              " 'E-Book Read - Read Book for free',\n",
              " 'Download free book with green book',\n",
              " 'Wikipedia',\n",
              " 'Amazon Kindle',\n",
              " 'Cool Reader',\n",
              " 'Dictionary - Merriam-Webster',\n",
              " 'NOOK: Read eBooks & Magazines',\n",
              " 'Free Panda Radio Music',\n",
              " 'Book store',\n",
              " 'FBReader: Favorite Book Reader',\n",
              " 'English Grammar Complete Handbook',\n",
              " 'Free Books - Spirit Fanfiction and Stories',\n",
              " 'Google Play Books',\n",
              " 'AlReader -any text book reader',\n",
              " 'Offline English Dictionary',\n",
              " 'Oxford Dictionary of English : Free',\n",
              " 'Offline: English to Tagalog Dictionary',\n",
              " 'Spanish English Translator',\n",
              " 'FamilySearch Tree',\n",
              " 'Cloud of Books',\n",
              " 'Recipes of Prophetic Medicine for free',\n",
              " 'ReadEra – free ebook reader',\n",
              " 'NOOK App for NOOK Devices',\n",
              " 'Anonymous caller detection',\n",
              " 'Ebook Reader',\n",
              " 'Litnet - E-books',\n",
              " 'Read books online',\n",
              " 'English to Urdu Dictionary',\n",
              " 'eBoox: book reader fb2 epub zip',\n",
              " 'English Persian Dictionary',\n",
              " 'Flybook',\n",
              " 'All Maths Formulas',\n",
              " 'Ancestry',\n",
              " 'HTC Help',\n",
              " 'English translation from Bengali',\n",
              " 'Pdf Book Download - Read Pdf Book',\n",
              " 'Free Book Reader',\n",
              " 'eBoox new: Reader for fb2 epub zip books',\n",
              " 'Only 30 days in English, the guideline is guaranteed',\n",
              " 'Moon+ Reader',\n",
              " \"SH-02J Owner's Manual (Android 8.0)\",\n",
              " 'English-Myanmar Dictionary',\n",
              " 'Golden Dictionary (EN-AR)',\n",
              " 'All Language Translator Free',\n",
              " 'Azpen eReader',\n",
              " 'URBANO V 02 instruction manual',\n",
              " 'English Dictionary - Offline',\n",
              " 'Visual Voicemail by MetroPCS',\n",
              " 'Indeed Job Search',\n",
              " 'Uber Driver',\n",
              " 'ADP Mobile Solutions',\n",
              " 'Snag - Jobs Hiring Now',\n",
              " 'Docs To Go™ Free Office Suite',\n",
              " 'Google My Business',\n",
              " 'OfficeSuite : Free Office + PDF Editor',\n",
              " 'USPS MOBILE®',\n",
              " 'Job Search by ZipRecruiter',\n",
              " 'Curriculum vitae App CV Builder Free Resume Maker',\n",
              " 'Google Primer',\n",
              " 'Alba Heaven - Alvarez Job Portal Services',\n",
              " 'SuperLivePro',\n",
              " 'Facebook Pages Manager',\n",
              " 'OfficeSuite Pro + PDF (Trial)',\n",
              " 'My Space - Employment Center',\n",
              " 'Box',\n",
              " 'Polaris Office for LG',\n",
              " 'Call Blocker',\n",
              " 'Jobs in Alabama - Jobs in Alba',\n",
              " 'Square Point of Sale - POS',\n",
              " 'Plugin:AOT v5.0',\n",
              " 'Kariyer.net',\n",
              " 'SEEK Job Search',\n",
              " 'Become a Job - Find a job or advertise',\n",
              " 'ZOOM Cloud Meetings',\n",
              " 'Easy Installer - Apps On SD',\n",
              " 'Facebook Ads Manager',\n",
              " 'IndiaMART: Search Products, Buy, Sell & Trade',\n",
              " 'ViettelPost express delivery',\n",
              " 'MyASUS - Service Center',\n",
              " 'Job Korea - Career Jobs',\n",
              " '104 Looking for a job - looking for a job, looking for a job, looking for a part-time job, health checkup, resume, treatment room',\n",
              " 'Myanmar 2D/3D',\n",
              " 'Quick PDF Scanner + OCR FREE',\n",
              " 'sABN',\n",
              " 'ATI Cargoes and Transportation',\n",
              " 'Secure Folder',\n",
              " 'UPS Mobile',\n",
              " 'Y! Mobile menu',\n",
              " 'SignEasy | Sign and Fill PDF and other Documents',\n",
              " 'Genius Scan - PDF Scanner',\n",
              " 'Tiny Scanner - PDF Scanner App',\n",
              " 'Fast Scanner : Free PDF Scan',\n",
              " 'Mobile Doc Scanner (MDScan) Lite',\n",
              " 'TurboScan: scan documents and receipts in PDF',\n",
              " 'Tiny Scanner Pro: PDF Doc Scan',\n",
              " 'Zenefits',\n",
              " 'Google Ads',\n",
              " 'Slack',\n",
              " 'FreshBooks Classic',\n",
              " 'Insightly CRM',\n",
              " 'QuickBooks Accounting: Invoicing & Expenses',\n",
              " 'HipChat - Chat Built for Teams',\n",
              " 'Xero Accounting Software',\n",
              " 'MailChimp - Email, Marketing Automation',\n",
              " 'Crew - Free Messaging and Scheduling',\n",
              " 'Asana: organize team projects',\n",
              " 'Google Analytics',\n",
              " 'AdWords Express',\n",
              " 'Accounting App - Zoho Books',\n",
              " 'Invoice & Time Tracking - Zoho',\n",
              " 'join.me - Simple Meetings',\n",
              " 'Invoice 2go — Professional Invoices and Estimates',\n",
              " 'Cisco Webex Meetings',\n",
              " 'ScreenMeet. Easy Phone Meeting',\n",
              " 'Cisco Webex Teams',\n",
              " 'Microsoft Remote Desktop',\n",
              " 'Start Meeting',\n",
              " 'ClickMeeting Webinars',\n",
              " 'BlueJeans for Android',\n",
              " 'Skype for Business for Android',\n",
              " 'Verify - Receipts & Expenses',\n",
              " 'LINE WEBTOON - Free Comics',\n",
              " 'Manga Master - Best manga & comic reader',\n",
              " 'GANMA! - All original stories free of charge for all original comics',\n",
              " 'Röhrich Werner Soundboard',\n",
              " 'Unicorn Pokez - Color By Number',\n",
              " 'MangaToon - Comics updated Daily',\n",
              " 'Manga Net – Best Online Manga Reader',\n",
              " 'Manga Rock - Best Manga Reader',\n",
              " 'Manga - read Thai translation',\n",
              " 'The Vietnam Story - Fun Stories',\n",
              " 'Dragon Ball Wallpaper - Ringtones',\n",
              " 'Funny Jokes Photos',\n",
              " 'Truyện Vui Tý Quậy',\n",
              " 'Comic Es - Shojo manga / love comics free of charge ♪ ♪',\n",
              " 'comico Popular Original Cartoon Updated Everyday Comico',\n",
              " 'Daily Manga - Comic & Webtoon',\n",
              " '漫咖 Comics - Manga,Novel and Stories',\n",
              " 'Emmanuella Funny Videos 2018',\n",
              " 'DC Comics',\n",
              " 'Manga Zero - Japanese cartoon and comic reader',\n",
              " 'Marvel Unlimited',\n",
              " 'Tapas – Comics, Novels, and Stories',\n",
              " \"Children's cartoons (Mithu-Mina-Raju)\",\n",
              " \"Narrator's Voice\",\n",
              " '【Ranobbe complete free】 Novelba - Free app that you can read and write novels',\n",
              " 'Faustop Sounds',\n",
              " 'Manga Mania - Best online manga reader',\n",
              " '#NAME?',\n",
              " 'Manga AZ - Manga Comic Reader',\n",
              " 'Buff Thun - Daily Free Webtoon / Comics / Web Fiction / Mini Game',\n",
              " \"pixiv comic - everyone's manga app\",\n",
              " 'Funny Jokes and Stories 2018',\n",
              " 'Hojiboy Tojiboyev Life Hacks',\n",
              " 'Perfect Viewer',\n",
              " 'Best Wallpapers Backgrounds(100,000+ 4K HD)',\n",
              " 'think Comics',\n",
              " 'Memes Button',\n",
              " 'Laftel - Watching and Announcing Snooping, Streaming',\n",
              " 'Messenger – Text and Video Chat for Free',\n",
              " 'WhatsApp Messenger',\n",
              " 'Messenger for SMS',\n",
              " 'Google Chrome: Fast & Secure',\n",
              " 'Messenger Lite: Free Calls & Messages',\n",
              " 'Gmail',\n",
              " 'Hangouts',\n",
              " 'Viber Messenger',\n",
              " 'My Tele2',\n",
              " 'Firefox Browser fast & private',\n",
              " 'Yahoo Mail – Stay Organized',\n",
              " 'imo beta free calls and text',\n",
              " 'imo free video calls and chat',\n",
              " 'Contacts',\n",
              " 'Call Free – Free Call',\n",
              " 'Web Browser & Explorer',\n",
              " 'Opera Mini - fast web browser',\n",
              " 'Browser 4G',\n",
              " 'MegaFon Dashboard',\n",
              " 'ZenUI Dialer & Contacts',\n",
              " 'Cricket Visual Voicemail',\n",
              " 'Opera Browser: Fast and Secure',\n",
              " 'TracFone My Account',\n",
              " 'Firefox Focus: The privacy browser',\n",
              " 'Google Voice',\n",
              " 'Chrome Dev',\n",
              " 'Xperia Link™',\n",
              " 'TouchPal Keyboard - Fun Emoji & Android Keyboard',\n",
              " 'Who',\n",
              " 'Skype Lite - Free Video Call & Chat',\n",
              " 'WeChat',\n",
              " 'UC Browser Mini -Tiny Fast Private & Secure',\n",
              " 'WhatsApp Business',\n",
              " 'My magenta',\n",
              " 'Android Messages',\n",
              " 'Telegram',\n",
              " 'Google Duo - High Quality Video Calls',\n",
              " 'Puffin Web Browser',\n",
              " 'Seznam.cz',\n",
              " 'Antillean Gold Telegram (original version)',\n",
              " 'AT&T Visual Voicemail',\n",
              " 'GMX Mail',\n",
              " 'Omlet Chat',\n",
              " 'UC Browser - Fast Download Private & Secure',\n",
              " 'My Vodacom SA',\n",
              " 'Microsoft Edge',\n",
              " 'Hangouts Dialer - Call Phones',\n",
              " 'Talkatone: Free Texts, Calls & Phone Number',\n",
              " 'Calls & Text by Mo+',\n",
              " 'free video calls and chat',\n",
              " 'Skype - free IM & video calls',\n",
              " 'GO SMS Pro - Messenger, Free Themes, Emoji',\n",
              " 'Messaging+ SMS, MMS Free',\n",
              " 'chomp SMS',\n",
              " 'Glide - Video Chat Messenger',\n",
              " 'Text SMS',\n",
              " 'Google Allo',\n",
              " 'Talkray - Free Calls & Texts',\n",
              " 'LINE: Free Calls & Messages',\n",
              " 'GroupMe',\n",
              " 'mysms SMS Text Messaging Sync',\n",
              " 'BBM - Free Calls & Messages',\n",
              " 'KakaoTalk: Free Calls & Text',\n",
              " '2ndLine - Second Phone Number',\n",
              " 'CM Browser - Ad Blocker , Fast Download , Privacy',\n",
              " 'Ninesky Browser',\n",
              " 'Dolphin Browser - Fast, Private & Adblock🐬',\n",
              " 'Ghostery Privacy Browser',\n",
              " 'InBrowser - Incognito Browsing',\n",
              " 'Web Browser for Android',\n",
              " 'DU Browser—Browse fast & fun',\n",
              " 'Lightning Web Browser',\n",
              " 'Web Browser',\n",
              " 'Puffin Browser Pro',\n",
              " 'Contacts+',\n",
              " 'ExDialer - Dialer & Contacts',\n",
              " 'PHONE for Google Voice & GTalk',\n",
              " 'Safest Call Blocker',\n",
              " 'Full Screen Caller ID',\n",
              " 'Hiya - Caller ID & Block',\n",
              " 'Mr. Number-Block calls & spam',\n",
              " 'Should I Answer?',\n",
              " 'RocketDial Dialer & Contacts',\n",
              " 'CallApp: Caller ID, Blocker & Phone Call Recorder',\n",
              " 'Whoscall - Caller ID & Block',\n",
              " 'CIA - Caller ID & Call Blocker',\n",
              " 'Calls Blacklist - Call Blocker',\n",
              " 'Call Control - Call Blocker',\n",
              " 'True Contact - Real Caller ID',\n",
              " 'Video Caller Id',\n",
              " 'Sync.ME – Caller ID & Block',\n",
              " 'Burner - Free Phone Number',\n",
              " 'Truecaller: Caller ID, SMS spam blocking & Dialer',\n",
              " 'Caller ID +',\n",
              " 'K-9 Mail',\n",
              " 'myMail – Email for Hotmail, Gmail and Outlook Mail',\n",
              " 'Email TypeApp - Mail App',\n",
              " 'All Email Providers',\n",
              " 'Newton Mail - Email App for Gmail, Outlook, IMAP',\n",
              " 'GO Notifier',\n",
              " 'Mail.Ru - Email App',\n",
              " 'Mail1Click - Secure Mail',\n",
              " 'Daum Mail - Next Mail',\n",
              " 'mail.com mail',\n",
              " 'SolMail - All-in-One email app',\n",
              " 'Vonage Mobile® Call Video Text',\n",
              " 'JusTalk - Free Video Calls and Fun Video Chat',\n",
              " 'Moco+ - Chat, Meet People',\n",
              " 'Calculator',\n",
              " 'Truth or Dare Pro',\n",
              " 'Private Dating, Hide App- Blue for PrivacyHider',\n",
              " 'Ad Blocker for SayHi',\n",
              " 'AMBW Dating App: Asian Men Black Women Interracial',\n",
              " 'Zoosk Dating App: Meet Singles',\n",
              " 'OkCupid Dating',\n",
              " 'Match™ Dating - Meet Singles',\n",
              " 'Hily: Dating, Chat, Match, Meet & Hook up',\n",
              " 'Hinge: Dating & Relationships',\n",
              " 'Casual Dating & Adult Singles - Joyride',\n",
              " 'BBW Dating & Plus Size Chat',\n",
              " 'Moco - Chat, Meet People',\n",
              " 'CMB Free Dating App',\n",
              " 'Hot or Not - Find someone right now',\n",
              " 'eharmony - Online Dating App',\n",
              " 'Free Dating App & Flirt Chat - Match with Singles',\n",
              " 'Chispa, the Dating App for Latino, Latina Singles',\n",
              " 'Clover Dating App',\n",
              " 'Black People Meet Singles Date',\n",
              " 'Mingle2 - Free Online Dating & Singles Chat Rooms',\n",
              " 'Free Dating App & Flirt Chat - Cheers',\n",
              " 'stranger chat - anonymous chat',\n",
              " 'Blendr - Chat, Flirt & Meet',\n",
              " 'Free Dating Hook Up Messenger',\n",
              " 'Find Real Love — YouLove Premium Dating',\n",
              " 'Once - Quality Matches Every day',\n",
              " 'BLK - Swipe. Match. Chat.',\n",
              " 'Cougar Dating Life : Date Older Women Sugar Mummy',\n",
              " 'Howlr',\n",
              " 'Stranger Chat & Date',\n",
              " 'Free Dating & Flirt Chat - Choice of Love',\n",
              " 'RandoChat - Chat roulette',\n",
              " 'BeWild Free Dating & Chat App',\n",
              " 'FastMeet: Chat, Dating, Love',\n",
              " 'Free Dating App - YoCutie - Flirt, Chat & Meet',\n",
              " 'OurTime Dating for Singles 50+',\n",
              " 'FarmersOnly Dating',\n",
              " 'Dating for 50 plus Mature Singles – FINALLY',\n",
              " 'Sudy – Meet Elite & Rich Single',\n",
              " 'Christian Dating For Free App',\n",
              " 'Just She - Top Lesbian Dating',\n",
              " 'Single Parent Meet #1 Dating',\n",
              " 'EliteSingles – Dating for Single Professionals',\n",
              " 'Millionaire Match: Rich Singles Dating App',\n",
              " 'InterracialCupid - Interracial Dating App',\n",
              " 'Sugar Mommas Dating And Single Search',\n",
              " 'Hide App, Private Dating, Safe Chat - PrivacyHider',\n",
              " 'muzmatch: Muslim & Arab Singles, Marriage & Dating',\n",
              " 'NoBuffDating - Free Dating App',\n",
              " 'Sugar Daddy Dating App',\n",
              " 'Adult Dirty Emojis',\n",
              " 'Free Dating App - Meet Local Singles - Flirt Chat',\n",
              " 'Meet4U - Chat, Love, Singles!',\n",
              " 'SnpCupid Dating',\n",
              " 'Chat Rooms, Avatars, Date - Galaxy',\n",
              " 'Adult Dating - AdultFinder',\n",
              " 'Gay Sugar Daddy Dating & Hookup – Sudy Gay',\n",
              " 'Meet24 - Love, Chat, Singles',\n",
              " 'BBWCupid - BBW Dating App',\n",
              " 'ChatVideo Meet new people',\n",
              " 'TryDate - Free Online Dating App, Chat Meet Adults',\n",
              " 'Black White Interracial Dating - Interracial Match',\n",
              " 'USA Singles Meet, Match and Date Free - Date',\n",
              " 'FlirtChat - ♥Free Dating/Flirting App♥',\n",
              " 'The League',\n",
              " 'Herpes Dating: 1,000K+ Singles',\n",
              " 'Heart mill',\n",
              " '95Live -SG#1 Live Streaming App',\n",
              " 'Mutual - LDS Dating',\n",
              " '2RedBeans',\n",
              " 'SweetRing - Meet, Match, Date',\n",
              " 'BiggerCity: Chat for gay bears, chubs & chasers',\n",
              " 'SilverSingles: The 50+ Dating App',\n",
              " 'Herpes Positive Singles Dating',\n",
              " 'Glam - Premium Dating App',\n",
              " 'iDates - Chats, Flirts, Dating, Love & Relations',\n",
              " 'JustDating',\n",
              " 'Interracial Match Dating App',\n",
              " 'Russian Dating & Chat for Russian speaking RusDate',\n",
              " 'Sky People (SPI): A secure blind date through authentication by Seoul National University',\n",
              " 'Sweet mi - unlimited hunnam hunting blind date',\n",
              " 'Mingle - Online Dating App to Chat & Meet People',\n",
              " 'BBW Dating & Curvy Singles Chat- LargeFriends',\n",
              " 'Hitwe - meet people and chat',\n",
              " 'A hundred',\n",
              " 'JustSayHi- Dating App. Chat & Meet Singles Nearby',\n",
              " 'FERZU - Furries Social Network',\n",
              " 'WannaMeet – Dating & Chat App',\n",
              " 'Luxy Pro- Elite Dating Single',\n",
              " 'Dating Network',\n",
              " 'Chatting - Free chat, random chat, boyfriend, girlfriend',\n",
              " 'iPair-Meet, Chat, Dating',\n",
              " 'Meet, chat & date. Free dating app - Chocolate app',\n",
              " 'Transenger – Ts Dating and Chat for Free',\n",
              " 'O-Star',\n",
              " 'Free Cam Girls - Live Webcam',\n",
              " 'Cardi B Live Stream Video Chat - Prank',\n",
              " 'Live Girls Talk - Free Video Chat',\n",
              " 'Live Talk - Free Text and Video Chat',\n",
              " 'Chat Kids - Chat Room For Kids',\n",
              " 'Girls Live Chat - Free Text & Video Chat',\n",
              " 'Random Video Chat',\n",
              " 'MouseMingle',\n",
              " 'American Girls Mobile Numbers',\n",
              " 'Random Video Chat App With Strangers',\n",
              " 'FREE VIDEO CHAT - LIVE VIDEO AND TEXT CHAT',\n",
              " 'Awake Dating',\n",
              " 'Live Chat - Free Video Chat Rooms',\n",
              " 'Meet With Strangers: Video Chat & Dating',\n",
              " 'FREE LIVE TALK',\n",
              " 'Random Chat App with Strangers',\n",
              " 'Ost. Zombies Cast - New Music and Lyrics',\n",
              " 'Dating White Girls',\n",
              " 'Live Chat - Free Video Talk',\n",
              " 'Geeks Dating',\n",
              " 'Live chat - free video chat',\n",
              " 'House party - live chat',\n",
              " 'Fishing Brain & Boating Maps Marine',\n",
              " 'CAM5678 Video Chat',\n",
              " 'Video chat live advices',\n",
              " 'chat live chat',\n",
              " 'Pet Lovers Dating',\n",
              " 'Friend Find: free chat + flirt dating app',\n",
              " 'Latin Dating',\n",
              " 'Spine- The dating app',\n",
              " 'Online Chat Girls Meet',\n",
              " 'Wifi Mingle',\n",
              " 'Girls Live Talk - Free Text and Video Chat',\n",
              " 'Soy Luna - Top Music And Lyrics',\n",
              " 'When Will You Get Married',\n",
              " 'HOW TO ASK A GIRL OUT',\n",
              " 'Online Girls Chat Group',\n",
              " 'The DJ - Match with People',\n",
              " 'Toronto Dating',\n",
              " 'i miss you quotes and photos',\n",
              " 'JoJo Siwa Top Hits Music',\n",
              " 'UK Girls Mobile Numbers',\n",
              " 'chat saudi arabia',\n",
              " 'Chat Click - Dating Search',\n",
              " 'Iraq love chat',\n",
              " 'Healthy Relationships Guide',\n",
              " 'following',\n",
              " 'Gods by Night',\n",
              " 'PlusOne',\n",
              " 'Love Calendar - Couple Sharing Calendar & CoupleDay',\n",
              " 'Speeding Joyride & Car Meet App',\n",
              " 'LOBSTR - go on a lunch date',\n",
              " 'Titanic App - Feminist Dating Application',\n",
              " 'French Chat Room',\n",
              " 'Soul Mate',\n",
              " 'Diamond Engagement Rings',\n",
              " 'Dating Tips For Men',\n",
              " 'Halalguur',\n",
              " 'Find Lover',\n",
              " '2Date Dating App, Love and matching',\n",
              " 'Teenage Chat & Dating',\n",
              " 'Girls Online Talk - Free Text and Video Chat',\n",
              " 'Online Girls Chat',\n",
              " 'LIVE VIDEO TALK',\n",
              " 'SkyLove – Dating and chat',\n",
              " 'Free Live Talk-Video Call',\n",
              " 'FindLoving',\n",
              " 'Sugar Daddies Dating App',\n",
              " 'Chat Mexico: meet people, flirt and friendship',\n",
              " 'Duolingo: Learn Languages Free',\n",
              " 'TED',\n",
              " 'English Communication - Learn English for Chinese (Learn English for Chinese)',\n",
              " 'Khan Academy',\n",
              " 'Learn English with Wlingua',\n",
              " 'Ai La Trieu Phu - ALTP Free',\n",
              " 'Princess Coloring Book',\n",
              " 'Learn Spanish - Español',\n",
              " 'English Grammar Test',\n",
              " 'Speed Reading',\n",
              " 'English for beginners',\n",
              " 'Flame - درب عقلك يوميا',\n",
              " 'Mermaids',\n",
              " 'Learn Japanese, Korean, Chinese Offline & Free',\n",
              " 'Kids Mode',\n",
              " 'PBS KIDS Video',\n",
              " 'Dinosaurs Coloring Pages',\n",
              " 'Cars Coloring Pages',\n",
              " 'Babbel – Learn Languages',\n",
              " 'Math Tricks',\n",
              " 'Monster Truck Driver & Racing',\n",
              " 'Learn English Words Free',\n",
              " 'Japanese / English one-shop search dictionary - Free Japanese - English - Japanese dictionary application',\n",
              " 'English speaking texts',\n",
              " 'Thai Handwriting',\n",
              " 'THAI DICT 2018',\n",
              " 'Kanji test · Han search Kanji training (free version)',\n",
              " \"Game for KIDS: KIDS match'em\",\n",
              " 'Flippy Campus - Buy & sell on campus at a discount',\n",
              " 'Free intellectual training game application |',\n",
              " 'ABC Preschool Free',\n",
              " 'PINKFONG Baby Shark',\n",
              " 'English words application mikan',\n",
              " 'Learn English for beginners',\n",
              " 'Listen and learn English in seven days',\n",
              " 'Lumosity: #1 Brain Games & Cognitive Training App',\n",
              " 'Learn English from Persian: Persian to English',\n",
              " 'English with Lingualeo',\n",
              " 'Learn languages, grammar & vocabulary with Memrise',\n",
              " 'Quizlet: Learn Languages & Vocab with Flashcards',\n",
              " 'Udemy - Online Courses',\n",
              " 'Coursera: Online courses',\n",
              " 'edX - Online Courses by Harvard, MIT & more',\n",
              " 'Elevate - Brain Training Games',\n",
              " 'NeuroNation - Focus and Brain Training',\n",
              " 'Peak – Brain Games & Training',\n",
              " 'Memorado - Brain Games',\n",
              " 'Lynda - Online Training Videos',\n",
              " 'Brilliant',\n",
              " 'CppDroid - C/C++ IDE',\n",
              " 'Quiz&Learn Python',\n",
              " 'C++ Tutorials',\n",
              " 'C++ Programming',\n",
              " 'C Programming',\n",
              " 'Udacity - Lifelong Learning',\n",
              " 'Learn C++',\n",
              " 'Learn programming',\n",
              " 'Learn JavaScript',\n",
              " 'Learn Java',\n",
              " 'Learn HTML',\n",
              " 'Programming Hub, Learn to code',\n",
              " 'Learn SQL',\n",
              " 'Ready4 SAT (Prep4 SAT)',\n",
              " 'Socratic - Math Answers & Homework Help',\n",
              " 'Ready4 GMAT (Prep4 GMAT)',\n",
              " 'Pocket GMAT Math',\n",
              " 'GMAT Question Bank',\n",
              " 'GRE Tutor',\n",
              " 'GRE Flashcards',\n",
              " 'play2prep: ACT, SAT prep',\n",
              " 'SAT Test',\n",
              " 'GMAT Math Flashcards',\n",
              " 'Pocket SAT Math',\n",
              " 'TOEFL Prep & Practice from Magoosh',\n",
              " 'GRE Prep & Practice by Magoosh',\n",
              " 'GRE® Flashcards by Kaplan',\n",
              " 'SAT Vocabulary',\n",
              " 'Magoosh GMAT Prep & Practice',\n",
              " 'SAT Flashcards: Prep & Vocabulary',\n",
              " 'Rosetta Stone: Learn to Speak & Read New Languages',\n",
              " 'Google Classroom',\n",
              " 'LinkedIn Learning: Online Courses to Learn Skills',\n",
              " 'Learn English with Phrases',\n",
              " 'Free english course',\n",
              " 'Learn 50 languages',\n",
              " 'Babbel – Learn Spanish',\n",
              " 'Mango Languages: Lovable Language Courses',\n",
              " 'Learn English with Aco',\n",
              " 'Learn to Speak English',\n",
              " 'busuu: Learn Languages - Spanish, English & More',\n",
              " 'My Class Schedule: Timetable',\n",
              " 'Study Checker',\n",
              " 'My Study Life - School Planner',\n",
              " 'HomeWork',\n",
              " 'Next Gen Science Standards',\n",
              " 'myHomework Student Planner',\n",
              " \"Teacher's Gradebook - Additio\",\n",
              " 'Common Core',\n",
              " 'Homework Planner',\n",
              " 'TeachersPayTeachers',\n",
              " 'Edmodo',\n",
              " 'Socrative Teacher',\n",
              " 'Training schedule - AllUniver',\n",
              " 'Remind: School Communication',\n",
              " 'ClassDojo',\n",
              " 'Lerni. Learn languages.',\n",
              " 'HelloTalk — Chat, Speak & Learn Foreign Languages',\n",
              " 'Innovative: Learn 34 Languages',\n",
              " 'Chegg Study - Homework Help',\n",
              " 'Canvas Student',\n",
              " 'Timetable',\n",
              " 'EasyBib: Citation Generator',\n",
              " 'SoloLearn: Learn to Code for Free',\n",
              " 'Kids Learn Languages by Mondly',\n",
              " 'Blinkist - Nonfiction Books',\n",
              " 'Sago Mini Hat Maker',\n",
              " 'Fuzzy Numbers: Pre-K Number Foundation',\n",
              " 'Toca Life: City',\n",
              " 'Toca Life: Hospital',\n",
              " 'Netflix',\n",
              " 'Complete Spanish Movies',\n",
              " 'Pluto TV - It’s Free TV',\n",
              " 'Tubi TV - Free Movies & TV',\n",
              " 'YouTube Kids',\n",
              " 'Mobile TV',\n",
              " 'TV+',\n",
              " 'Digital TV',\n",
              " 'Motorola Spotlight Player™',\n",
              " 'Vigo Lite',\n",
              " 'Google Play Games',\n",
              " 'Hotstar',\n",
              " 'Peers.TV: broadcast TV channels First, Match TV, TNT ...',\n",
              " 'The green alien dance',\n",
              " 'Spectrum TV',\n",
              " 'H TV',\n",
              " 'StarTimes - Live International Champions Cup',\n",
              " 'Cinematic Cinematic',\n",
              " 'MEGOGO - Cinema and TV',\n",
              " 'Talking Angela',\n",
              " 'DStv Now',\n",
              " 'ivi - movies and TV shows in HD',\n",
              " 'Radio Javan',\n",
              " 'Viki: Asian TV Dramas & Movies',\n",
              " 'Talking Ginger 2',\n",
              " 'Girly Lock Screen Wallpaper with Quotes',\n",
              " 'No.Draw - Colors by Number 2018',\n",
              " '🔥 Football Wallpapers 4K | Full HD Backgrounds 😍',\n",
              " 'Movies by Flixster, with Rotten Tomatoes',\n",
              " 'Low Poly – Puzzle art game',\n",
              " 'BBC Media Player',\n",
              " 'Amazon Prime Video',\n",
              " 'Adult Glitter Color by Number Book - Sandbox Pages',\n",
              " 'IMDb Movies & TV',\n",
              " 'Twitch: Livestream Multiplayer Games & Esports',\n",
              " 'Ziggo GO',\n",
              " 'YouTube Gaming',\n",
              " 'PlayStation App',\n",
              " 'Talking Ben the Dog',\n",
              " 'Red Bull TV: Live Sports, Music & Entertainment',\n",
              " 'Trailer Addict Movie Trailers',\n",
              " 'Cinemark Theatres',\n",
              " 'Regal Cinemas',\n",
              " 'Fandango Movies - Times + Tickets',\n",
              " 'Marcus Theatres',\n",
              " 'Harkins Theatres',\n",
              " 'AMC Theatres',\n",
              " 'Food Network',\n",
              " 'Cooking Channel',\n",
              " 'Animal Planet GO',\n",
              " 'VRV: Anime, game videos & more',\n",
              " 'DramaFever: Stream Asian Drama Shows & Movies',\n",
              " 'Crunchyroll - Everything Anime',\n",
              " 'Investigation Discovery GO',\n",
              " 'Crackle - Free TV & Movies',\n",
              " 'CBS - Full Episodes & Live TV',\n",
              " 'STARZ',\n",
              " 'Acorn TV: World-class TV from Britain and Beyond',\n",
              " 'HISTORY: Watch TV Show Full Episodes & Specials',\n",
              " 'Nick',\n",
              " 'VH1',\n",
              " 'FOX NOW - On Demand & Live TV',\n",
              " 'A&E - Watch Full Episodes of TV Shows',\n",
              " 'The CW',\n",
              " 'BET NOW - Watch Shows',\n",
              " 'Hulu: Stream TV, Movies & more',\n",
              " 'HBO NOW: Stream TV & Movies',\n",
              " 'Univision NOW - Live TV and On Demand',\n",
              " 'SHOWTIME',\n",
              " 'Lifetime - Watch Full Episodes & Original Movies',\n",
              " 'SeriesGuide – Show & Movie Manager',\n",
              " 'Comedy Central',\n",
              " 'CW Seed',\n",
              " 'The NBC App - Watch Live TV and Full Episodes',\n",
              " 'WWE',\n",
              " 'Universal Kids',\n",
              " 'MTV',\n",
              " 'LEGO® TV',\n",
              " 'HBO GO: Stream with TV Package',\n",
              " 'Showtime Anytime',\n",
              " 'PlayKids - Educational cartoons and games for kids',\n",
              " 'FOX',\n",
              " 'Telemundo Now',\n",
              " 'Vudu Movies & TV',\n",
              " 'Yidio: TV Show & Movie Guide',\n",
              " 'Redbox',\n",
              " 'Tribeca Shortlist - Handpicked Movies',\n",
              " 'Nick Jr. - Shows & Games',\n",
              " 'Sticker Market: Emoji keyboard',\n",
              " 'Kidjo TV Kids Have Fun & Learn',\n",
              " 'Laugh Out Loud by Kevin Hart',\n",
              " 'ColorFul - Adult Coloring Book',\n",
              " 'Hamilton — The Official App',\n",
              " 'My Talking Pet',\n",
              " 'Funny Pics',\n",
              " 'Funny Quotes Free',\n",
              " 'LOL Pics (Funny Pictures)',\n",
              " 'Meme Creator',\n",
              " 'Imgur: Find funny GIFs, memes & watch viral videos',\n",
              " 'Meme Generator',\n",
              " 'SketchBook - draw and paint',\n",
              " 'Colorfy: Coloring Book for Adults - Free',\n",
              " 'All Events in City',\n",
              " 'Ticketmaster Event Tickets',\n",
              " 'Reminder',\n",
              " 'Birdays - Birthday reminder',\n",
              " 'StubHub - Tickets to Sports, Concerts & Events',\n",
              " 'Fever',\n",
              " 'DroidAdmin for Android - Advice',\n",
              " 'SeatGeek – Tickets to Sports, Concerts, Broadway',\n",
              " 'my4D',\n",
              " 'VAN NIAN 2018 - Vietnamese Calendar',\n",
              " 'Vivid Seats – Event Tickets',\n",
              " 'Name days',\n",
              " 'LBB - Find New & Unique Things To Do Around You',\n",
              " 'Happy Birthday Songs Offline',\n",
              " 'Series Valley of the Wolves full of part',\n",
              " 'Mummatikabalkuragi',\n",
              " 'Gametime - Tickets to Sports, Concerts, Theater',\n",
              " 'PTI Flex Maker, Photo Frame Editor & Songs 2018',\n",
              " 'Wipe out',\n",
              " 'Birthdays & Other Events',\n",
              " 'Sarajevo Film Festival - Official',\n",
              " 'Summer Madness',\n",
              " 'Events High - Meet Your City!',\n",
              " 'vide-greniers.org',\n",
              " 'SUMMER SONIC app',\n",
              " 'Quake & Volcanoes: 3D Globe of Volcanic Eruptions',\n",
              " 'Prosperity',\n",
              " \"Picktrainer: India's largest photo contest app\",\n",
              " 'AAS-IN-ASIA 2018',\n",
              " 'Moot Peru 2018',\n",
              " 'FM News',\n",
              " 'Goldstar: Live Event Tickets',\n",
              " 'Emmabodafestivalen',\n",
              " 'KudaGo - things to do in NY',\n",
              " 'Mindvalley U Tallinn 2018',\n",
              " 'Rockmaraton Info',\n",
              " 'Freitas Auctioneer Official',\n",
              " 'mobLee Events',\n",
              " 'Xceed - Clubs, DJs, Festivals & Tickets',\n",
              " 'AMM Events & CPD',\n",
              " 'Arab Halls - For Wedding & Events',\n",
              " 'MeAuDote - An act of love that saves a life',\n",
              " 'TCF National Conference',\n",
              " 'Endurance Lifestyle',\n",
              " 'K PLUS',\n",
              " 'ING Banking',\n",
              " 'Citibanamex Movil',\n",
              " 'The postal bank',\n",
              " 'KTB Netbank',\n",
              " 'Mobile Bancomer',\n",
              " 'Nedbank Money',\n",
              " 'SCB EASY',\n",
              " 'CASHIER',\n",
              " 'Rabo Banking',\n",
              " 'Capitec Remote Banking',\n",
              " 'Itau bank',\n",
              " 'Nubank',\n",
              " 'The Societe Generale App',\n",
              " 'IKO',\n",
              " 'Cash App',\n",
              " 'Standard Bank / Stanbic Bank',\n",
              " 'Bualuang mBanking',\n",
              " 'Intesa Sanpaolo Mobile',\n",
              " 'UBA Mobile Banking',\n",
              " 'BBVA Spain',\n",
              " 'MyMo by GSB',\n",
              " 'VTB-Online',\n",
              " 'Ecobank Mobile Banking',\n",
              " 'Banorte Movil',\n",
              " 'Wells Fargo Mobile',\n",
              " 'Credit Karma',\n",
              " 'BZWBK24 mobile',\n",
              " 'PayPal',\n",
              " 'Capital One® Mobile',\n",
              " 'Zenith Bank Mobile App',\n",
              " 'GCash - Buy Load, Pay Bills, Send Money',\n",
              " 'Post Bank',\n",
              " 'İşCep',\n",
              " \"People's Bank\",\n",
              " 'Google Pay',\n",
              " 'Transfer',\n",
              " 'T-Mobile in',\n",
              " 'TrueMoney Wallet',\n",
              " 'Alfa-Bank (Alfa-Bank)',\n",
              " 'Bank of Brazil',\n",
              " 'WiseBanyan - Invest For Free',\n",
              " 'Robinhood - Investing, No Fees',\n",
              " 'Wells Fargo Daily Change',\n",
              " 'Even - organize your money, get paid early',\n",
              " 'Digit Save Money Automatically',\n",
              " 'Stash: Invest. Learn. Save.',\n",
              " 'Acorns - Invest Spare Change',\n",
              " 'Money Lover: Expense Tracker, Budget Planner',\n",
              " 'Expense IQ Money Manager',\n",
              " 'Money Manager Expense & Budget',\n",
              " 'Prism Pay Bills, Track Money, Personal Finance',\n",
              " 'Monefy - Money Manager',\n",
              " 'Simple - Better Banking',\n",
              " 'Chime - Mobile Banking',\n",
              " 'Bluebird by American Express',\n",
              " 'Walmart MoneyCard',\n",
              " 'Moven - Smart Finances',\n",
              " 'Qapital - Save Small. Live Large',\n",
              " 'Experian - Free Credit Report',\n",
              " 'Branch',\n",
              " 'WalletHub - Free Credit Score, Report & Monitoring',\n",
              " 'CreditWise from Capital One',\n",
              " 'NerdWallet: Personal Finance, Credit Score & Cash',\n",
              " 'my face',\n",
              " 'Credit Sesame',\n",
              " 'Mint: Budget, Bills, Finance',\n",
              " 'Fresh EBT - Food Stamp Balance',\n",
              " 'Hurdlr: Track Mileage, Expenses, and Log Receipts',\n",
              " 'Mobills: Budget Planner',\n",
              " 'Everlance: Free Mileage Log',\n",
              " 'MileIQ - Free Mileage Tracker for Business',\n",
              " 'QuickBooks Self-Employed:Mileage Tracker and Taxes',\n",
              " 'FREE Stock Market Trading Tips',\n",
              " 'MetaTrader 5',\n",
              " 'MetaTrader 4',\n",
              " 'Stock Quote',\n",
              " 'Seeking Alpha',\n",
              " 'Stock Trainer: Virtual Trading (Stock Markets)',\n",
              " 'Stocks: Realtime Quotes Charts',\n",
              " 'Stocks, Forex, Bitcoin, Ethereum: Portfolio & News',\n",
              " 'CNBC: Breaking Business News & Live Market Data',\n",
              " 'US Stock Market',\n",
              " 'Bloomberg Professional',\n",
              " 'E*TRADE Mobile',\n",
              " 'MSN Money- Stock Quotes & News',\n",
              " 'Fox Business',\n",
              " 'NSE Mobile Trading',\n",
              " 'Yahoo Finance',\n",
              " 'JStock - Stock Market, Portfolio & News',\n",
              " 'Webull - Stock Quotes & Free Stock Trading',\n",
              " 'Trading 212 - Forex, Stocks, CFDs',\n",
              " 'Moneycontrol – Stocks, Sensex, Mutual Funds, IPO',\n",
              " 'Current debit card and app made for teens',\n",
              " 'Betterment',\n",
              " 'Citizens Bank Mobile Banking',\n",
              " 'GoBank',\n",
              " 'NetSpend Prepaid',\n",
              " 'BBVA Compass Banking',\n",
              " 'BankMobile Vibe App',\n",
              " 'Netspend Skylight ONE',\n",
              " 'ACE Elite',\n",
              " 'U.S. Bank',\n",
              " 'Huntington Mobile',\n",
              " 'USAA Mobile',\n",
              " 'Associated Credit Union Mobile',\n",
              " 'Bank of America Mobile Banking',\n",
              " 'USE Credit Union Mobile',\n",
              " 'Discover Mobile',\n",
              " 'Amex Mobile',\n",
              " 'Citi Mobile®',\n",
              " 'Navy Federal Credit Union',\n",
              " 'Chase Mobile',\n",
              " 'HDFC Bank MobileBanking',\n",
              " 'Barclays US for Android',\n",
              " \"McDonald's\",\n",
              " 'Easy and Fast Recipes',\n",
              " 'Cookpad - FREE recipe search makes fun cooking · musical making!',\n",
              " 'DELISH KITCHEN - FREE recipe movies make food fun and easy!',\n",
              " 'Sumine side dish - dish recipe side dish',\n",
              " 'Easy Recipes',\n",
              " 'Delicious Recipes',\n",
              " 'Tastely',\n",
              " 'Pastry & Cooking (Without Net)',\n",
              " 'Frigo Magic: Easy recipe idea and anti-waste',\n",
              " \"McDonald's - McDonald's Japan\",\n",
              " 'Debonairs Pizza',\n",
              " 'Popeyes® App',\n",
              " \"Dunkin' Donuts\",\n",
              " 'Pyaterochka',\n",
              " 'Refreshing app Free application that can use deal coupons',\n",
              " 'Simple Recipes',\n",
              " 'Grubhub: Food Delivery',\n",
              " 'Panera Bread',\n",
              " 'Chick-fil-A',\n",
              " 'hellofood - Food Delivery',\n",
              " 'Starbucks',\n",
              " 'Easy and quick desserts',\n",
              " \"Domino's Pizza USA\",\n",
              " 'Chef - Recipes & Cooking',\n",
              " 'Delivery Club-food delivery: pizza, sushi, burger, salad',\n",
              " 'HungerStation',\n",
              " 'Delivery yogi.',\n",
              " 'Delivery trough - delivery trough delivery trough',\n",
              " 'Dr. Oetker recipe ideas',\n",
              " 'SONIC Drive-In',\n",
              " 'SUBWAY®',\n",
              " 'GialloZafferano: Recipes',\n",
              " 'Dairy Queen',\n",
              " '9th stage',\n",
              " 'OpenRice',\n",
              " 'SarashpazPapion (Cooking with Chef Bowls)',\n",
              " 'Little Caesars',\n",
              " 'Recipes Pastries and homemade pies More than 500 recipes for pastries',\n",
              " 'Om Waleed Sweets',\n",
              " 'Eat Fast Prepare \"Without Internet\"',\n",
              " 'Wendy’s – Food and Offers',\n",
              " 'My Recipes Cookbook : RecetteTek',\n",
              " 'Healthy Recipes Free',\n",
              " 'Cookbook Recipes',\n",
              " 'ChefTap Recipes & Grocery List',\n",
              " 'Recipe Keeper',\n",
              " 'My CookBook (Recipe Manager)',\n",
              " ...]"
            ]
          },
          "metadata": {},
          "execution_count": 62
        }
      ]
    },
    {
      "cell_type": "code",
      "source": [
        "list(df['Category'].unique())"
      ],
      "metadata": {
        "colab": {
          "base_uri": "https://localhost:8080/"
        },
        "id": "KFfCmEiNiVGD",
        "outputId": "d515868b-b82e-41e8-faa1-bfab23305d47"
      },
      "execution_count": 63,
      "outputs": [
        {
          "output_type": "execute_result",
          "data": {
            "text/plain": [
              "['ART_AND_DESIGN',\n",
              " 'AUTO_AND_VEHICLES',\n",
              " 'BEAUTY',\n",
              " 'BOOKS_AND_REFERENCE',\n",
              " 'BUSINESS',\n",
              " 'COMICS',\n",
              " 'COMMUNICATION',\n",
              " 'DATING',\n",
              " 'EDUCATION',\n",
              " 'ENTERTAINMENT',\n",
              " 'EVENTS',\n",
              " 'FINANCE',\n",
              " 'FOOD_AND_DRINK',\n",
              " 'HEALTH_AND_FITNESS',\n",
              " 'HOUSE_AND_HOME',\n",
              " 'LIBRARIES_AND_DEMO',\n",
              " 'LIFESTYLE',\n",
              " 'GAME',\n",
              " 'FAMILY',\n",
              " 'MEDICAL',\n",
              " 'SOCIAL',\n",
              " 'SHOPPING',\n",
              " 'PHOTOGRAPHY',\n",
              " 'SPORTS',\n",
              " 'TRAVEL_AND_LOCAL',\n",
              " 'TOOLS',\n",
              " 'PERSONALIZATION',\n",
              " 'PRODUCTIVITY',\n",
              " 'PARENTING',\n",
              " 'WEATHER',\n",
              " 'VIDEO_PLAYERS',\n",
              " 'NEWS_AND_MAGAZINES',\n",
              " 'MAPS_AND_NAVIGATION',\n",
              " '1.9']"
            ]
          },
          "metadata": {},
          "execution_count": 63
        }
      ]
    },
    {
      "cell_type": "code",
      "source": [
        "list(df['Rating'].unique())"
      ],
      "metadata": {
        "colab": {
          "base_uri": "https://localhost:8080/"
        },
        "id": "1HVIJp3CiZii",
        "outputId": "bd402faa-1d84-492a-b485-4d2cb11485a5"
      },
      "execution_count": 64,
      "outputs": [
        {
          "output_type": "execute_result",
          "data": {
            "text/plain": [
              "[4.1,\n",
              " 3.9,\n",
              " 4.7,\n",
              " 4.5,\n",
              " 4.3,\n",
              " 4.4,\n",
              " 3.8,\n",
              " 4.2,\n",
              " 4.6,\n",
              " 3.2,\n",
              " 4.0,\n",
              " nan,\n",
              " 4.8,\n",
              " 4.9,\n",
              " 3.6,\n",
              " 3.7,\n",
              " 3.3,\n",
              " 3.4,\n",
              " 3.5,\n",
              " 3.1,\n",
              " 5.0,\n",
              " 2.6,\n",
              " 3.0,\n",
              " 1.9,\n",
              " 2.5,\n",
              " 2.8,\n",
              " 2.7,\n",
              " 1.0,\n",
              " 2.9,\n",
              " 2.3,\n",
              " 2.2,\n",
              " 1.7,\n",
              " 2.0,\n",
              " 1.8,\n",
              " 2.4,\n",
              " 1.6,\n",
              " 2.1,\n",
              " 1.4,\n",
              " 1.5,\n",
              " 1.2,\n",
              " 19.0]"
            ]
          },
          "metadata": {},
          "execution_count": 64
        }
      ]
    },
    {
      "cell_type": "code",
      "source": [
        "list(df['Reviews'].unique())"
      ],
      "metadata": {
        "colab": {
          "base_uri": "https://localhost:8080/"
        },
        "id": "BEi24yzJidOa",
        "outputId": "dd23922a-ed0f-4cc3-ab2d-491d7ec1d901"
      },
      "execution_count": 67,
      "outputs": [
        {
          "output_type": "execute_result",
          "data": {
            "text/plain": [
              "['159',\n",
              " '967',\n",
              " '87510',\n",
              " '215644',\n",
              " '167',\n",
              " '178',\n",
              " '36815',\n",
              " '13791',\n",
              " '121',\n",
              " '13880',\n",
              " '8788',\n",
              " '44829',\n",
              " '4326',\n",
              " '1518',\n",
              " '55',\n",
              " '3632',\n",
              " '27',\n",
              " '194216',\n",
              " '224399',\n",
              " '450',\n",
              " '654',\n",
              " '7699',\n",
              " '61',\n",
              " '118',\n",
              " '192',\n",
              " '20260',\n",
              " '203',\n",
              " '136',\n",
              " '223',\n",
              " '1120',\n",
              " '227',\n",
              " '5035',\n",
              " '1015',\n",
              " '353',\n",
              " '564',\n",
              " '8145',\n",
              " '36639',\n",
              " '158',\n",
              " '591',\n",
              " '117',\n",
              " '176',\n",
              " '295221',\n",
              " '2206',\n",
              " '26',\n",
              " '174531',\n",
              " '1070',\n",
              " '85',\n",
              " '845',\n",
              " '367',\n",
              " '1598',\n",
              " '284',\n",
              " '17057',\n",
              " '129',\n",
              " '542',\n",
              " '10479',\n",
              " '805',\n",
              " '1403',\n",
              " '3971',\n",
              " '534',\n",
              " '7774',\n",
              " '38846',\n",
              " '2431',\n",
              " '6090',\n",
              " '295',\n",
              " '190',\n",
              " '40211',\n",
              " '356',\n",
              " '52530',\n",
              " '116986',\n",
              " '1379',\n",
              " '271920',\n",
              " '736',\n",
              " '7021',\n",
              " '197',\n",
              " '737',\n",
              " '3574',\n",
              " '994',\n",
              " '197136',\n",
              " '142',\n",
              " '15168',\n",
              " '2155',\n",
              " '138',\n",
              " '5414',\n",
              " '21777',\n",
              " '348',\n",
              " '250',\n",
              " '13372',\n",
              " '7880',\n",
              " '3617',\n",
              " '4806',\n",
              " '65786',\n",
              " '31433',\n",
              " '5097',\n",
              " '1754',\n",
              " '2680',\n",
              " '1288',\n",
              " '18900',\n",
              " '49790',\n",
              " '1150',\n",
              " '1739',\n",
              " '32090',\n",
              " '2225',\n",
              " '4369',\n",
              " '8572',\n",
              " '964',\n",
              " '42050',\n",
              " '104',\n",
              " '17934',\n",
              " '601',\n",
              " '36',\n",
              " '187',\n",
              " '182',\n",
              " '30',\n",
              " '134',\n",
              " '74',\n",
              " '113715',\n",
              " '3595',\n",
              " '9315',\n",
              " '75',\n",
              " '38',\n",
              " '26834',\n",
              " '119',\n",
              " '2277',\n",
              " '2280',\n",
              " '184',\n",
              " '9',\n",
              " '77',\n",
              " '35',\n",
              " '364',\n",
              " '18',\n",
              " '473',\n",
              " '66',\n",
              " '3871',\n",
              " '257',\n",
              " '62',\n",
              " '2914724',\n",
              " '1857',\n",
              " '4478',\n",
              " '577550',\n",
              " '814080',\n",
              " '246315',\n",
              " '454060',\n",
              " '155446',\n",
              " '418',\n",
              " '22486',\n",
              " '203130',\n",
              " '1435',\n",
              " '116507',\n",
              " '1433233',\n",
              " '90468',\n",
              " '860',\n",
              " '363934',\n",
              " '87873',\n",
              " '17506',\n",
              " '1862',\n",
              " '2084',\n",
              " '47303',\n",
              " '19080',\n",
              " '161',\n",
              " '85842',\n",
              " '7831',\n",
              " '91615',\n",
              " '4620',\n",
              " '21336',\n",
              " '26875',\n",
              " '1778',\n",
              " '2709',\n",
              " '64513',\n",
              " '8342',\n",
              " '527',\n",
              " '1322',\n",
              " '1680',\n",
              " '2739',\n",
              " '1065',\n",
              " '233757',\n",
              " '2',\n",
              " '51269',\n",
              " '30105',\n",
              " '156',\n",
              " '114',\n",
              " '341157',\n",
              " '16129',\n",
              " '674730',\n",
              " '1254730',\n",
              " '85185',\n",
              " '32584',\n",
              " '217730',\n",
              " '70991',\n",
              " '1002861',\n",
              " '16589',\n",
              " '148945',\n",
              " '4458',\n",
              " '62272',\n",
              " '8941',\n",
              " '46353',\n",
              " '1279184',\n",
              " '88073',\n",
              " '67000',\n",
              " '159872',\n",
              " '30847',\n",
              " '188841',\n",
              " '11622',\n",
              " '95912',\n",
              " '4034',\n",
              " '45964',\n",
              " '14955',\n",
              " '6903',\n",
              " '31614',\n",
              " '23055',\n",
              " '19023',\n",
              " '207372',\n",
              " '1225',\n",
              " '380837',\n",
              " '10600',\n",
              " '74359',\n",
              " '822',\n",
              " '80805',\n",
              " '2287',\n",
              " '4162',\n",
              " '14760',\n",
              " '23243',\n",
              " '8978',\n",
              " '42492',\n",
              " '286897',\n",
              " '103755',\n",
              " '46505',\n",
              " '11442',\n",
              " '10295',\n",
              " '296',\n",
              " '29313',\n",
              " '51507',\n",
              " '1802',\n",
              " '1383',\n",
              " '23175',\n",
              " '5868',\n",
              " '2111',\n",
              " '5448',\n",
              " '4159',\n",
              " '20815',\n",
              " '78662',\n",
              " '7149',\n",
              " '3079',\n",
              " '5800',\n",
              " '6989',\n",
              " '16422',\n",
              " '108741',\n",
              " '624',\n",
              " '1661',\n",
              " '97702',\n",
              " '308',\n",
              " '5211',\n",
              " '1058',\n",
              " '78172',\n",
              " '80804',\n",
              " '1002859',\n",
              " '51510',\n",
              " '413',\n",
              " '1013635',\n",
              " '24005',\n",
              " '57106',\n",
              " '2249',\n",
              " '516',\n",
              " '834',\n",
              " '1010',\n",
              " '238970',\n",
              " '302',\n",
              " '438',\n",
              " '73',\n",
              " '39',\n",
              " '144',\n",
              " '2181',\n",
              " '93965',\n",
              " '1446',\n",
              " '12088',\n",
              " '314',\n",
              " '25671',\n",
              " '15194',\n",
              " '22551',\n",
              " '29839',\n",
              " '279',\n",
              " '564387',\n",
              " '1330',\n",
              " '1677',\n",
              " '757',\n",
              " '115',\n",
              " '125',\n",
              " '9952',\n",
              " '18814',\n",
              " '21',\n",
              " '15',\n",
              " '51981',\n",
              " '3596',\n",
              " '1006',\n",
              " '5968',\n",
              " '4895',\n",
              " '56642847',\n",
              " '69119316',\n",
              " '125257',\n",
              " '9642995',\n",
              " '1429035',\n",
              " '4604324',\n",
              " '3419249',\n",
              " '11334799',\n",
              " '158679',\n",
              " '3075028',\n",
              " '4187998',\n",
              " '659395',\n",
              " '4785892',\n",
              " '66602',\n",
              " '30209',\n",
              " '36901',\n",
              " '5149854',\n",
              " '192948',\n",
              " '99559',\n",
              " '437674',\n",
              " '13698',\n",
              " '2473509',\n",
              " '20769',\n",
              " '36880',\n",
              " '171031',\n",
              " '63543',\n",
              " '45487',\n",
              " '615381',\n",
              " '2451083',\n",
              " '33053',\n",
              " '5387333',\n",
              " '3648120',\n",
              " '136662',\n",
              " '42370',\n",
              " '781810',\n",
              " '3128250',\n",
              " '2083237',\n",
              " '541389',\n",
              " '46702',\n",
              " '2939',\n",
              " '13761',\n",
              " '258556',\n",
              " '40751',\n",
              " '17712922',\n",
              " '25021',\n",
              " '27187',\n",
              " '56646578',\n",
              " '4785988',\n",
              " '122498',\n",
              " '11334973',\n",
              " '3419433',\n",
              " '132014',\n",
              " '83239',\n",
              " '594728',\n",
              " '5387446',\n",
              " '10484169',\n",
              " '3128509',\n",
              " '2451093',\n",
              " '2876500',\n",
              " '28238',\n",
              " '335646',\n",
              " '350154',\n",
              " '349384',\n",
              " '346982',\n",
              " '244863',\n",
              " '10790289',\n",
              " '330761',\n",
              " '37320',\n",
              " '12842860',\n",
              " '2546527',\n",
              " '36893',\n",
              " '15880',\n",
              " '346980',\n",
              " '9643041',\n",
              " '3075118',\n",
              " '2264916',\n",
              " '2473693',\n",
              " '42925',\n",
              " '5150471',\n",
              " '2511130',\n",
              " '3648480',\n",
              " '17714850',\n",
              " '13100',\n",
              " '27156',\n",
              " '55098',\n",
              " '1133501',\n",
              " '12578',\n",
              " '10965',\n",
              " '18247',\n",
              " '190613',\n",
              " '125232',\n",
              " '72065',\n",
              " '27540',\n",
              " '104990',\n",
              " '177703',\n",
              " '17529',\n",
              " '177263',\n",
              " '237468',\n",
              " '32254',\n",
              " '483565',\n",
              " '552441',\n",
              " '60308',\n",
              " '457283',\n",
              " '93825',\n",
              " '32283',\n",
              " '15287',\n",
              " '205739',\n",
              " '14873',\n",
              " '7820209',\n",
              " '9498',\n",
              " '4604483',\n",
              " '4188142',\n",
              " '88427',\n",
              " '305218',\n",
              " '183374',\n",
              " '20901',\n",
              " '122595',\n",
              " '124346',\n",
              " '837842',\n",
              " '255',\n",
              " '41420',\n",
              " '44706',\n",
              " '23707',\n",
              " '3419513',\n",
              " '11335255',\n",
              " '29208',\n",
              " '191032',\n",
              " '1545',\n",
              " '57',\n",
              " '0',\n",
              " '4',\n",
              " '516801',\n",
              " '285726',\n",
              " '76646',\n",
              " '2556',\n",
              " '7779',\n",
              " '61637',\n",
              " '12632',\n",
              " '313724',\n",
              " '48845',\n",
              " '305708',\n",
              " '31320',\n",
              " '172460',\n",
              " '4195',\n",
              " '11633',\n",
              " '10212',\n",
              " '37053',\n",
              " '667',\n",
              " '13202',\n",
              " '28671',\n",
              " '1157',\n",
              " '212626',\n",
              " '222888',\n",
              " '2067',\n",
              " '1643',\n",
              " '105',\n",
              " '3414',\n",
              " '42194',\n",
              " '11806',\n",
              " '1999',\n",
              " '22544',\n",
              " '97684',\n",
              " '2519',\n",
              " '1146',\n",
              " '13046',\n",
              " '17268',\n",
              " '8722',\n",
              " '953',\n",
              " '2593',\n",
              " '5377',\n",
              " '852',\n",
              " '212',\n",
              " '1972',\n",
              " '35206',\n",
              " '5164',\n",
              " '1939',\n",
              " '277',\n",
              " '80',\n",
              " '825',\n",
              " '40035',\n",
              " '1093',\n",
              " '135418',\n",
              " '1601',\n",
              " '2212',\n",
              " '57081',\n",
              " '241',\n",
              " '63986',\n",
              " '7888',\n",
              " '535',\n",
              " '5084',\n",
              " '2430',\n",
              " '837',\n",
              " '738',\n",
              " '4631',\n",
              " '4953',\n",
              " '1439',\n",
              " '1645',\n",
              " '13204',\n",
              " '853',\n",
              " '337',\n",
              " '13049',\n",
              " '51698',\n",
              " '923',\n",
              " '1546',\n",
              " '149',\n",
              " '198',\n",
              " '135420',\n",
              " '22545',\n",
              " '8723',\n",
              " '23170',\n",
              " '13890',\n",
              " '57083',\n",
              " '537',\n",
              " '13440',\n",
              " '143',\n",
              " '1059',\n",
              " '894',\n",
              " '6191',\n",
              " '15081',\n",
              " '218',\n",
              " '35205',\n",
              " '243950',\n",
              " '236',\n",
              " '5152',\n",
              " '1576',\n",
              " '6701',\n",
              " '40039',\n",
              " '742',\n",
              " '2506',\n",
              " '182986',\n",
              " '8661',\n",
              " '8',\n",
              " '59',\n",
              " '28',\n",
              " '185',\n",
              " '6',\n",
              " '110',\n",
              " '3',\n",
              " '5',\n",
              " '84',\n",
              " '20',\n",
              " '776',\n",
              " '1',\n",
              " '14',\n",
              " '24',\n",
              " '23',\n",
              " '11',\n",
              " '101',\n",
              " '120',\n",
              " '4954',\n",
              " '954',\n",
              " '2560',\n",
              " '42197',\n",
              " '5168',\n",
              " '12633',\n",
              " '41605',\n",
              " '2433',\n",
              " '791',\n",
              " '5323',\n",
              " '478',\n",
              " '69',\n",
              " '53',\n",
              " '97699',\n",
              " '6289924',\n",
              " '181893',\n",
              " '2544',\n",
              " '85375',\n",
              " '314299',\n",
              " '9770',\n",
              " '32346',\n",
              " '4075',\n",
              " '10611',\n",
              " '9321',\n",
              " '56065',\n",
              " '14286',\n",
              " '133136',\n",
              " '2469',\n",
              " '36212',\n",
              " '390',\n",
              " '1090',\n",
              " '266948',\n",
              " '342918',\n",
              " '748',\n",
              " '172640',\n",
              " '1619',\n",
              " '3168',\n",
              " '29855',\n",
              " '6736',\n",
              " '7005',\n",
              " '889',\n",
              " '5741',\n",
              " '27572',\n",
              " '10852',\n",
              " '9888',\n",
              " '1929',\n",
              " '1516',\n",
              " '215301',\n",
              " '423',\n",
              " '254519',\n",
              " '1107903',\n",
              " '211856',\n",
              " '99020',\n",
              " '90481',\n",
              " '32381',\n",
              " '248912',\n",
              " '248555',\n",
              " '272145',\n",
              " '56897',\n",
              " '8599',\n",
              " '41185',\n",
              " '29980',\n",
              " '304',\n",
              " '358',\n",
              " '11904',\n",
              " '22251',\n",
              " '22384',\n",
              " '73404',\n",
              " '12733',\n",
              " '25183',\n",
              " '52743',\n",
              " '61749',\n",
              " '55704',\n",
              " '19277',\n",
              " '13612',\n",
              " '37862',\n",
              " '18372',\n",
              " '656',\n",
              " '240',\n",
              " '275',\n",
              " '3692',\n",
              " '2363',\n",
              " '1769',\n",
              " '430',\n",
              " '756',\n",
              " '3963',\n",
              " '316',\n",
              " '642',\n",
              " '6290507',\n",
              " '32380',\n",
              " '172505',\n",
              " '69493',\n",
              " '1107884',\n",
              " '7973',\n",
              " '266935',\n",
              " '5695',\n",
              " '142632',\n",
              " '55256',\n",
              " '172508',\n",
              " '54798',\n",
              " '4815',\n",
              " '75112',\n",
              " '33646',\n",
              " '314300',\n",
              " '206527',\n",
              " '9348',\n",
              " '3816',\n",
              " '47847',\n",
              " '16195',\n",
              " '206',\n",
              " '28392',\n",
              " '3241',\n",
              " '835',\n",
              " '2525',\n",
              " '828',\n",
              " '200058',\n",
              " '1239',\n",
              " '702',\n",
              " '108613',\n",
              " '69498',\n",
              " '148550',\n",
              " '3847',\n",
              " '84309',\n",
              " '1107948',\n",
              " '14206',\n",
              " '206532',\n",
              " '14700',\n",
              " '42828',\n",
              " '40209',\n",
              " '1405',\n",
              " '148549',\n",
              " '84311',\n",
              " '256079',\n",
              " '2078',\n",
              " '16103',\n",
              " '31085',\n",
              " '3528',\n",
              " '5456208',\n",
              " '11656',\n",
              " '28948',\n",
              " '296771',\n",
              " '470089',\n",
              " '10939',\n",
              " '98509',\n",
              " '5241',\n",
              " '22508',\n",
              " '10291',\n",
              " '7165362',\n",
              " '4885646',\n",
              " '141980',\n",
              " '6979',\n",
              " '46618',\n",
              " '103078',\n",
              " '17682',\n",
              " '37000',\n",
              " '175528',\n",
              " '1828284',\n",
              " '34923',\n",
              " '684116',\n",
              " '46916',\n",
              " '407698',\n",
              " '702975',\n",
              " '32458',\n",
              " '235496',\n",
              " '11661',\n",
              " '653008',\n",
              " '23063',\n",
              " '87384',\n",
              " '411683',\n",
              " '8918',\n",
              " '501498',\n",
              " '2133296',\n",
              " '29690',\n",
              " '130549',\n",
              " '613059',\n",
              " '1633682',\n",
              " '2646',\n",
              " '21867',\n",
              " '32732',\n",
              " '243747',\n",
              " '2639',\n",
              " '1511',\n",
              " '44550',\n",
              " '501497',\n",
              " '7813',\n",
              " '1033',\n",
              " '2442',\n",
              " '15254',\n",
              " '155234',\n",
              " '310066',\n",
              " '12216',\n",
              " '388089',\n",
              " '92058',\n",
              " '88185',\n",
              " '493',\n",
              " '33387',\n",
              " '123279',\n",
              " '27424',\n",
              " '60841',\n",
              " '29706',\n",
              " '288150',\n",
              " '14807',\n",
              " '319692',\n",
              " '61201',\n",
              " '22998',\n",
              " '12398',\n",
              " '35928',\n",
              " '64448',\n",
              " '22378',\n",
              " '5456599',\n",
              " '296829',\n",
              " '310095',\n",
              " '319691',\n",
              " '16372',\n",
              " '58028',\n",
              " '736864',\n",
              " '1968',\n",
              " '35279',\n",
              " '35931',\n",
              " '17247',\n",
              " '87723',\n",
              " '18523',\n",
              " '182103',\n",
              " '197774',\n",
              " '8674',\n",
              " '5456708',\n",
              " '58082',\n",
              " '407719',\n",
              " '115033',\n",
              " '22997',\n",
              " '801',\n",
              " '8968',\n",
              " '303',\n",
              " '732',\n",
              " '1856',\n",
              " '50725',\n",
              " '1575',\n",
              " '6238',\n",
              " '9941',\n",
              " '23666',\n",
              " '67554',\n",
              " '38769',\n",
              " '160164',\n",
              " '3771',\n",
              " '256664',\n",
              " '787177',\n",
              " '3782',\n",
              " '40113',\n",
              " '7074',\n",
              " '2153',\n",
              " '26089',\n",
              " '20611',\n",
              " '811',\n",
              " '15558',\n",
              " '573',\n",
              " '37',\n",
              " '8232',\n",
              " '3089',\n",
              " '3874',\n",
              " '464',\n",
              " '731',\n",
              " '8800',\n",
              " '99',\n",
              " '456',\n",
              " '3200',\n",
              " '5839',\n",
              " '663',\n",
              " '16',\n",
              " '13',\n",
              " '46',\n",
              " '1953',\n",
              " '12',\n",
              " '4298',\n",
              " '49',\n",
              " '100',\n",
              " '399',\n",
              " '7',\n",
              " '124424',\n",
              " '39041',\n",
              " '52306',\n",
              " '36718',\n",
              " '42644',\n",
              " '278082',\n",
              " '6076',\n",
              " '112656',\n",
              " '335738',\n",
              " '31906',\n",
              " '20672',\n",
              " '957973',\n",
              " '130582',\n",
              " '31218',\n",
              " '167168',\n",
              " '34428',\n",
              " '15247',\n",
              " '48445',\n",
              " '35518',\n",
              " '12185',\n",
              " '36746',\n",
              " '21996',\n",
              " '138371',\n",
              " '12073',\n",
              " '111632',\n",
              " '250706',\n",
              " '706301',\n",
              " '64959',\n",
              " '659741',\n",
              " '510392',\n",
              " '7215',\n",
              " '25508',\n",
              " '60449',\n",
              " '381788',\n",
              " '10697',\n",
              " '347838',\n",
              " '31804',\n",
              " '3856',\n",
              " '199684',\n",
              " '44545',\n",
              " '1336246',\n",
              " '57493',\n",
              " '283',\n",
              " '12304',\n",
              " '8188',\n",
              " '11919',\n",
              " '45957',\n",
              " '126431',\n",
              " '21570',\n",
              " '134564',\n",
              " '16961',\n",
              " '111254',\n",
              " '7731',\n",
              " '5928',\n",
              " '15703',\n",
              " '6148',\n",
              " '861',\n",
              " '8662',\n",
              " '23130',\n",
              " '69973',\n",
              " '1311',\n",
              " '26587',\n",
              " '2417',\n",
              " '706302',\n",
              " '1054',\n",
              " '25166',\n",
              " '129304',\n",
              " '19870',\n",
              " '161440',\n",
              " '7514',\n",
              " '46106',\n",
              " '15141',\n",
              " '714',\n",
              " '42410',\n",
              " '260547',\n",
              " '4344',\n",
              " '22808',\n",
              " '42809',\n",
              " '16808',\n",
              " '157505',\n",
              " '24647',\n",
              " '1922',\n",
              " '3334',\n",
              " '10658',\n",
              " '78361',\n",
              " '2594',\n",
              " '13868',\n",
              " '135952',\n",
              " '11066',\n",
              " '45962',\n",
              " '34861',\n",
              " '37580',\n",
              " '281485',\n",
              " '685',\n",
              " '126447',\n",
              " '3780',\n",
              " '15192',\n",
              " '5950',\n",
              " '15993',\n",
              " '5905',\n",
              " '659760',\n",
              " '14627',\n",
              " '1098',\n",
              " '2898',\n",
              " '70782',\n",
              " '11264',\n",
              " '100997',\n",
              " '347874',\n",
              " '3290',\n",
              " '341090',\n",
              " '87951',\n",
              " '250719',\n",
              " '510401',\n",
              " '24729',\n",
              " '78306',\n",
              " '43313',\n",
              " '1374549',\n",
              " '208463',\n",
              " '6998',\n",
              " '145323',\n",
              " '95',\n",
              " '64784',\n",
              " '32997',\n",
              " '82',\n",
              " '2707',\n",
              " '129737',\n",
              " '611136',\n",
              " '6118',\n",
              " '2473',\n",
              " '109784',\n",
              " '3320',\n",
              " '68103',\n",
              " '8412',\n",
              " '10741',\n",
              " '3803',\n",
              " '155944',\n",
              " '10159',\n",
              " '28008',\n",
              " '43614',\n",
              " '455377',\n",
              " '1398',\n",
              " '1032935',\n",
              " '32405',\n",
              " '151080',\n",
              " '22513',\n",
              " '90042',\n",
              " '58316',\n",
              " '8509',\n",
              " '19314',\n",
              " '21314',\n",
              " '30224',\n",
              " '454',\n",
              " '14952',\n",
              " '1250',\n",
              " '1726',\n",
              " '14065',\n",
              " '556',\n",
              " '4925',\n",
              " '6507',\n",
              " '11707',\n",
              " '1077',\n",
              " '46539',\n",
              " '9066',\n",
              " '1962',\n",
              " '22071',\n",
              " '196',\n",
              " '278',\n",
              " '61881',\n",
              " '2129',\n",
              " '1268',\n",
              " '91359',\n",
              " '22015',\n",
              " '131569',\n",
              " '31986',\n",
              " '22875',\n",
              " '17071',\n",
              " '90242',\n",
              " '483960',\n",
              " '511228',\n",
              " ...]"
            ]
          },
          "metadata": {},
          "execution_count": 67
        }
      ]
    },
    {
      "cell_type": "markdown",
      "source": [
        "## 3. ***Data Wrangling***"
      ],
      "metadata": {
        "id": "dauF4eBmngu3"
      }
    },
    {
      "cell_type": "markdown",
      "source": [
        " ### Data Wrangling Code"
      ],
      "metadata": {
        "id": "bKJF3rekwFvQ"
      }
    },
    {
      "cell_type": "code",
      "source": [
        "# Write your code to make your dataset analysis ready.\n",
        "                                                                                                                         "
      ],
      "metadata": {
        "id": "wk-9a2fpoLcV"
      },
      "execution_count": null,
      "outputs": []
    },
    {
      "cell_type": "markdown",
      "source": [],
      "metadata": {
        "id": "pvnHhOfnrGAr"
      }
    },
    {
      "cell_type": "markdown",
      "source": [
        "### What all manipulations have you done and insights you found?"
      ],
      "metadata": {
        "id": "MSa1f5Uengrz"
      }
    },
    {
      "cell_type": "markdown",
      "source": [
        "Answer Here."
      ],
      "metadata": {
        "id": "LbyXE7I1olp8"
      }
    },
    {
      "cell_type": "markdown",
      "source": [
        "## ***4. Data Vizualization, Storytelling & Experimenting with charts : Understand the relationships between variables***"
      ],
      "metadata": {
        "id": "GF8Ens_Soomf"
      }
    },
    {
      "cell_type": "markdown",
      "source": [
        "#### Chart - 1"
      ],
      "metadata": {
        "id": "0wOQAZs5pc--"
      }
    },
    {
      "cell_type": "code",
      "source": [
        "# Chart - 1 visualization code"
      ],
      "metadata": {
        "id": "7v_ESjsspbW7"
      },
      "execution_count": null,
      "outputs": []
    },
    {
      "cell_type": "markdown",
      "source": [
        "##### 1. Why did you pick the specific chart?"
      ],
      "metadata": {
        "id": "K5QZ13OEpz2H"
      }
    },
    {
      "cell_type": "markdown",
      "source": [
        "Answer Here."
      ],
      "metadata": {
        "id": "XESiWehPqBRc"
      }
    },
    {
      "cell_type": "markdown",
      "source": [
        "##### 2. What is/are the insight(s) found from the chart?"
      ],
      "metadata": {
        "id": "lQ7QKXXCp7Bj"
      }
    },
    {
      "cell_type": "markdown",
      "source": [
        "Answer Here"
      ],
      "metadata": {
        "id": "C_j1G7yiqdRP"
      }
    },
    {
      "cell_type": "markdown",
      "source": [
        "##### 3. Will the gained insights help creating a positive business impact? \n",
        "Are there any insights that lead to negative growth? Justify with specific reason."
      ],
      "metadata": {
        "id": "448CDAPjqfQr"
      }
    },
    {
      "cell_type": "markdown",
      "source": [
        "Answer Here"
      ],
      "metadata": {
        "id": "3cspy4FjqxJW"
      }
    },
    {
      "cell_type": "markdown",
      "source": [
        "#### Chart - 2"
      ],
      "metadata": {
        "id": "KSlN3yHqYklG"
      }
    },
    {
      "cell_type": "code",
      "source": [
        "# Chart - 2 visualization code"
      ],
      "metadata": {
        "id": "R4YgtaqtYklH"
      },
      "execution_count": null,
      "outputs": []
    },
    {
      "cell_type": "markdown",
      "source": [
        "##### 1. Why did you pick the specific chart?"
      ],
      "metadata": {
        "id": "t6dVpIINYklI"
      }
    },
    {
      "cell_type": "markdown",
      "source": [
        "Answer Here."
      ],
      "metadata": {
        "id": "5aaW0BYyYklI"
      }
    },
    {
      "cell_type": "markdown",
      "source": [
        "##### 2. What is/are the insight(s) found from the chart?"
      ],
      "metadata": {
        "id": "ijmpgYnKYklI"
      }
    },
    {
      "cell_type": "markdown",
      "source": [
        "Answer Here"
      ],
      "metadata": {
        "id": "PSx9atu2YklI"
      }
    },
    {
      "cell_type": "markdown",
      "source": [
        "##### 3. Will the gained insights help creating a positive business impact? \n",
        "Are there any insights that lead to negative growth? Justify with specific reason."
      ],
      "metadata": {
        "id": "-JiQyfWJYklI"
      }
    },
    {
      "cell_type": "markdown",
      "source": [
        "Answer Here"
      ],
      "metadata": {
        "id": "BcBbebzrYklV"
      }
    },
    {
      "cell_type": "markdown",
      "source": [
        "#### Chart - 3"
      ],
      "metadata": {
        "id": "EM7whBJCYoAo"
      }
    },
    {
      "cell_type": "code",
      "source": [
        "# Chart - 3 visualization code"
      ],
      "metadata": {
        "id": "t6GMdE67YoAp"
      },
      "execution_count": null,
      "outputs": []
    },
    {
      "cell_type": "markdown",
      "source": [
        "##### 1. Why did you pick the specific chart?"
      ],
      "metadata": {
        "id": "fge-S5ZAYoAp"
      }
    },
    {
      "cell_type": "markdown",
      "source": [
        "Answer Here."
      ],
      "metadata": {
        "id": "5dBItgRVYoAp"
      }
    },
    {
      "cell_type": "markdown",
      "source": [
        "##### 2. What is/are the insight(s) found from the chart?"
      ],
      "metadata": {
        "id": "85gYPyotYoAp"
      }
    },
    {
      "cell_type": "markdown",
      "source": [
        "Answer Here"
      ],
      "metadata": {
        "id": "4jstXR6OYoAp"
      }
    },
    {
      "cell_type": "markdown",
      "source": [
        "##### 3. Will the gained insights help creating a positive business impact? \n",
        "Are there any insights that lead to negative growth? Justify with specific reason."
      ],
      "metadata": {
        "id": "RoGjAbkUYoAp"
      }
    },
    {
      "cell_type": "markdown",
      "source": [
        "Answer Here"
      ],
      "metadata": {
        "id": "zfJ8IqMcYoAp"
      }
    },
    {
      "cell_type": "markdown",
      "source": [
        "#### Chart - 4"
      ],
      "metadata": {
        "id": "4Of9eVA-YrdM"
      }
    },
    {
      "cell_type": "code",
      "source": [
        "# Chart - 4 visualization code"
      ],
      "metadata": {
        "id": "irlUoxc8YrdO"
      },
      "execution_count": null,
      "outputs": []
    },
    {
      "cell_type": "markdown",
      "source": [
        "##### 1. Why did you pick the specific chart?"
      ],
      "metadata": {
        "id": "iky9q4vBYrdO"
      }
    },
    {
      "cell_type": "markdown",
      "source": [
        "Answer Here."
      ],
      "metadata": {
        "id": "aJRCwT6DYrdO"
      }
    },
    {
      "cell_type": "markdown",
      "source": [
        "##### 2. What is/are the insight(s) found from the chart?"
      ],
      "metadata": {
        "id": "F6T5p64dYrdO"
      }
    },
    {
      "cell_type": "markdown",
      "source": [
        "Answer Here"
      ],
      "metadata": {
        "id": "Xx8WAJvtYrdO"
      }
    },
    {
      "cell_type": "markdown",
      "source": [
        "##### 3. Will the gained insights help creating a positive business impact? \n",
        "Are there any insights that lead to negative growth? Justify with specific reason."
      ],
      "metadata": {
        "id": "y-Ehk30pYrdP"
      }
    },
    {
      "cell_type": "markdown",
      "source": [
        "Answer Here"
      ],
      "metadata": {
        "id": "jLNxxz7MYrdP"
      }
    },
    {
      "cell_type": "markdown",
      "source": [
        "#### Chart - 5"
      ],
      "metadata": {
        "id": "bamQiAODYuh1"
      }
    },
    {
      "cell_type": "code",
      "source": [
        "# Chart - 5 visualization code"
      ],
      "metadata": {
        "id": "TIJwrbroYuh3"
      },
      "execution_count": null,
      "outputs": []
    },
    {
      "cell_type": "markdown",
      "source": [
        "##### 1. Why did you pick the specific chart?"
      ],
      "metadata": {
        "id": "QHF8YVU7Yuh3"
      }
    },
    {
      "cell_type": "markdown",
      "source": [
        "Answer Here."
      ],
      "metadata": {
        "id": "dcxuIMRPYuh3"
      }
    },
    {
      "cell_type": "markdown",
      "source": [
        "##### 2. What is/are the insight(s) found from the chart?"
      ],
      "metadata": {
        "id": "GwzvFGzlYuh3"
      }
    },
    {
      "cell_type": "markdown",
      "source": [
        "Answer Here"
      ],
      "metadata": {
        "id": "uyqkiB8YYuh3"
      }
    },
    {
      "cell_type": "markdown",
      "source": [
        "##### 3. Will the gained insights help creating a positive business impact? \n",
        "Are there any insights that lead to negative growth? Justify with specific reason."
      ],
      "metadata": {
        "id": "qYpmQ266Yuh3"
      }
    },
    {
      "cell_type": "markdown",
      "source": [
        "Answer Here"
      ],
      "metadata": {
        "id": "_WtzZ_hCYuh4"
      }
    },
    {
      "cell_type": "markdown",
      "source": [
        "#### Chart - 6"
      ],
      "metadata": {
        "id": "OH-pJp9IphqM"
      }
    },
    {
      "cell_type": "code",
      "source": [
        "# Chart - 6 visualization code"
      ],
      "metadata": {
        "id": "kuRf4wtuphqN"
      },
      "execution_count": null,
      "outputs": []
    },
    {
      "cell_type": "markdown",
      "source": [
        "##### 1. Why did you pick the specific chart?"
      ],
      "metadata": {
        "id": "bbFf2-_FphqN"
      }
    },
    {
      "cell_type": "markdown",
      "source": [
        "Answer Here."
      ],
      "metadata": {
        "id": "loh7H2nzphqN"
      }
    },
    {
      "cell_type": "markdown",
      "source": [
        "##### 2. What is/are the insight(s) found from the chart?"
      ],
      "metadata": {
        "id": "_ouA3fa0phqN"
      }
    },
    {
      "cell_type": "markdown",
      "source": [
        "Answer Here"
      ],
      "metadata": {
        "id": "VECbqPI7phqN"
      }
    },
    {
      "cell_type": "markdown",
      "source": [
        "##### 3. Will the gained insights help creating a positive business impact? \n",
        "Are there any insights that lead to negative growth? Justify with specific reason."
      ],
      "metadata": {
        "id": "Seke61FWphqN"
      }
    },
    {
      "cell_type": "markdown",
      "source": [
        "Answer Here"
      ],
      "metadata": {
        "id": "DW4_bGpfphqN"
      }
    },
    {
      "cell_type": "markdown",
      "source": [
        "#### Chart - 7"
      ],
      "metadata": {
        "id": "PIIx-8_IphqN"
      }
    },
    {
      "cell_type": "code",
      "source": [
        "# Chart - 7 visualization code"
      ],
      "metadata": {
        "id": "lqAIGUfyphqO"
      },
      "execution_count": null,
      "outputs": []
    },
    {
      "cell_type": "markdown",
      "source": [
        "##### 1. Why did you pick the specific chart?"
      ],
      "metadata": {
        "id": "t27r6nlMphqO"
      }
    },
    {
      "cell_type": "markdown",
      "source": [
        "Answer Here."
      ],
      "metadata": {
        "id": "iv6ro40sphqO"
      }
    },
    {
      "cell_type": "markdown",
      "source": [
        "##### 2. What is/are the insight(s) found from the chart?"
      ],
      "metadata": {
        "id": "r2jJGEOYphqO"
      }
    },
    {
      "cell_type": "markdown",
      "source": [
        "Answer Here"
      ],
      "metadata": {
        "id": "Po6ZPi4hphqO"
      }
    },
    {
      "cell_type": "markdown",
      "source": [
        "##### 3. Will the gained insights help creating a positive business impact? \n",
        "Are there any insights that lead to negative growth? Justify with specific reason."
      ],
      "metadata": {
        "id": "b0JNsNcRphqO"
      }
    },
    {
      "cell_type": "markdown",
      "source": [
        "Answer Here"
      ],
      "metadata": {
        "id": "xvSq8iUTphqO"
      }
    },
    {
      "cell_type": "markdown",
      "source": [
        "#### Chart - 8"
      ],
      "metadata": {
        "id": "BZR9WyysphqO"
      }
    },
    {
      "cell_type": "code",
      "source": [
        "# Chart - 8 visualization code"
      ],
      "metadata": {
        "id": "TdPTWpAVphqO"
      },
      "execution_count": null,
      "outputs": []
    },
    {
      "cell_type": "markdown",
      "source": [
        "##### 1. Why did you pick the specific chart?"
      ],
      "metadata": {
        "id": "jj7wYXLtphqO"
      }
    },
    {
      "cell_type": "markdown",
      "source": [
        "Answer Here."
      ],
      "metadata": {
        "id": "Ob8u6rCTphqO"
      }
    },
    {
      "cell_type": "markdown",
      "source": [
        "##### 2. What is/are the insight(s) found from the chart?"
      ],
      "metadata": {
        "id": "eZrbJ2SmphqO"
      }
    },
    {
      "cell_type": "markdown",
      "source": [
        "Answer Here"
      ],
      "metadata": {
        "id": "mZtgC_hjphqO"
      }
    },
    {
      "cell_type": "markdown",
      "source": [
        "##### 3. Will the gained insights help creating a positive business impact? \n",
        "Are there any insights that lead to negative growth? Justify with specific reason."
      ],
      "metadata": {
        "id": "rFu4xreNphqO"
      }
    },
    {
      "cell_type": "markdown",
      "source": [
        "Answer Here"
      ],
      "metadata": {
        "id": "ey_0qi68phqO"
      }
    },
    {
      "cell_type": "markdown",
      "source": [
        "#### Chart - 9"
      ],
      "metadata": {
        "id": "YJ55k-q6phqO"
      }
    },
    {
      "cell_type": "code",
      "source": [
        "# Chart - 9 visualization code"
      ],
      "metadata": {
        "id": "B2aS4O1ophqO"
      },
      "execution_count": null,
      "outputs": []
    },
    {
      "cell_type": "markdown",
      "source": [
        "##### 1. Why did you pick the specific chart?"
      ],
      "metadata": {
        "id": "gCFgpxoyphqP"
      }
    },
    {
      "cell_type": "markdown",
      "source": [
        "Answer Here."
      ],
      "metadata": {
        "id": "TVxDimi2phqP"
      }
    },
    {
      "cell_type": "markdown",
      "source": [
        "##### 2. What is/are the insight(s) found from the chart?"
      ],
      "metadata": {
        "id": "OVtJsKN_phqQ"
      }
    },
    {
      "cell_type": "markdown",
      "source": [
        "Answer Here"
      ],
      "metadata": {
        "id": "ngGi97qjphqQ"
      }
    },
    {
      "cell_type": "markdown",
      "source": [
        "##### 3. Will the gained insights help creating a positive business impact? \n",
        "Are there any insights that lead to negative growth? Justify with specific reason."
      ],
      "metadata": {
        "id": "lssrdh5qphqQ"
      }
    },
    {
      "cell_type": "markdown",
      "source": [
        "Answer Here"
      ],
      "metadata": {
        "id": "tBpY5ekJphqQ"
      }
    },
    {
      "cell_type": "markdown",
      "source": [
        "#### Chart - 10"
      ],
      "metadata": {
        "id": "U2RJ9gkRphqQ"
      }
    },
    {
      "cell_type": "code",
      "source": [
        "# Chart - 10 visualization code"
      ],
      "metadata": {
        "id": "GM7a4YP4phqQ"
      },
      "execution_count": null,
      "outputs": []
    },
    {
      "cell_type": "markdown",
      "source": [
        "##### 1. Why did you pick the specific chart?"
      ],
      "metadata": {
        "id": "1M8mcRywphqQ"
      }
    },
    {
      "cell_type": "markdown",
      "source": [
        "Answer Here."
      ],
      "metadata": {
        "id": "8agQvks0phqQ"
      }
    },
    {
      "cell_type": "markdown",
      "source": [
        "##### 2. What is/are the insight(s) found from the chart?"
      ],
      "metadata": {
        "id": "tgIPom80phqQ"
      }
    },
    {
      "cell_type": "markdown",
      "source": [
        "Answer Here"
      ],
      "metadata": {
        "id": "Qp13pnNzphqQ"
      }
    },
    {
      "cell_type": "markdown",
      "source": [
        "##### 3. Will the gained insights help creating a positive business impact? \n",
        "Are there any insights that lead to negative growth? Justify with specific reason."
      ],
      "metadata": {
        "id": "JMzcOPDDphqR"
      }
    },
    {
      "cell_type": "markdown",
      "source": [
        "Answer Here"
      ],
      "metadata": {
        "id": "R4Ka1PC2phqR"
      }
    },
    {
      "cell_type": "markdown",
      "source": [
        "#### Chart - 11"
      ],
      "metadata": {
        "id": "x-EpHcCOp1ci"
      }
    },
    {
      "cell_type": "code",
      "source": [
        "# Chart - 11 visualization code"
      ],
      "metadata": {
        "id": "mAQTIvtqp1cj"
      },
      "execution_count": null,
      "outputs": []
    },
    {
      "cell_type": "markdown",
      "source": [
        "##### 1. Why did you pick the specific chart?"
      ],
      "metadata": {
        "id": "X_VqEhTip1ck"
      }
    },
    {
      "cell_type": "markdown",
      "source": [
        "Answer Here."
      ],
      "metadata": {
        "id": "-vsMzt_np1ck"
      }
    },
    {
      "cell_type": "markdown",
      "source": [
        "##### 2. What is/are the insight(s) found from the chart?"
      ],
      "metadata": {
        "id": "8zGJKyg5p1ck"
      }
    },
    {
      "cell_type": "markdown",
      "source": [
        "Answer Here"
      ],
      "metadata": {
        "id": "ZYdMsrqVp1ck"
      }
    },
    {
      "cell_type": "markdown",
      "source": [
        "##### 3. Will the gained insights help creating a positive business impact? \n",
        "Are there any insights that lead to negative growth? Justify with specific reason."
      ],
      "metadata": {
        "id": "PVzmfK_Ep1ck"
      }
    },
    {
      "cell_type": "markdown",
      "source": [
        "Answer Here"
      ],
      "metadata": {
        "id": "druuKYZpp1ck"
      }
    },
    {
      "cell_type": "markdown",
      "source": [
        "#### Chart - 12"
      ],
      "metadata": {
        "id": "n3dbpmDWp1ck"
      }
    },
    {
      "cell_type": "code",
      "source": [
        "# Chart - 12 visualization code"
      ],
      "metadata": {
        "id": "bwevp1tKp1ck"
      },
      "execution_count": null,
      "outputs": []
    },
    {
      "cell_type": "markdown",
      "source": [
        "##### 1. Why did you pick the specific chart?"
      ],
      "metadata": {
        "id": "ylSl6qgtp1ck"
      }
    },
    {
      "cell_type": "markdown",
      "source": [
        "Answer Here."
      ],
      "metadata": {
        "id": "m2xqNkiQp1ck"
      }
    },
    {
      "cell_type": "markdown",
      "source": [
        "##### 2. What is/are the insight(s) found from the chart?"
      ],
      "metadata": {
        "id": "ZWILFDl5p1ck"
      }
    },
    {
      "cell_type": "markdown",
      "source": [
        "Answer Here"
      ],
      "metadata": {
        "id": "x-lUsV2mp1ck"
      }
    },
    {
      "cell_type": "markdown",
      "source": [
        "##### 3. Will the gained insights help creating a positive business impact? \n",
        "Are there any insights that lead to negative growth? Justify with specific reason."
      ],
      "metadata": {
        "id": "M7G43BXep1ck"
      }
    },
    {
      "cell_type": "markdown",
      "source": [
        "Answer Here"
      ],
      "metadata": {
        "id": "5wwDJXsLp1cl"
      }
    },
    {
      "cell_type": "markdown",
      "source": [
        "#### Chart - 13"
      ],
      "metadata": {
        "id": "Ag9LCva-p1cl"
      }
    },
    {
      "cell_type": "code",
      "source": [
        "# Chart - 13 visualization code"
      ],
      "metadata": {
        "id": "EUfxeq9-p1cl"
      },
      "execution_count": null,
      "outputs": []
    },
    {
      "cell_type": "markdown",
      "source": [
        "##### 1. Why did you pick the specific chart?"
      ],
      "metadata": {
        "id": "E6MkPsBcp1cl"
      }
    },
    {
      "cell_type": "markdown",
      "source": [
        "Answer Here."
      ],
      "metadata": {
        "id": "V22bRsFWp1cl"
      }
    },
    {
      "cell_type": "markdown",
      "source": [
        "##### 2. What is/are the insight(s) found from the chart?"
      ],
      "metadata": {
        "id": "2cELzS2fp1cl"
      }
    },
    {
      "cell_type": "markdown",
      "source": [
        "Answer Here"
      ],
      "metadata": {
        "id": "ozQPc2_Ip1cl"
      }
    },
    {
      "cell_type": "markdown",
      "source": [
        "##### 3. Will the gained insights help creating a positive business impact? \n",
        "Are there any insights that lead to negative growth? Justify with specific reason."
      ],
      "metadata": {
        "id": "3MPXvC8up1cl"
      }
    },
    {
      "cell_type": "markdown",
      "source": [
        "Answer Here"
      ],
      "metadata": {
        "id": "GL8l1tdLp1cl"
      }
    },
    {
      "cell_type": "markdown",
      "source": [
        "#### Chart - 14 - Correlation Heatmap"
      ],
      "metadata": {
        "id": "NC_X3p0fY2L0"
      }
    },
    {
      "cell_type": "code",
      "source": [
        "# Correlation Heatmap visualization code"
      ],
      "metadata": {
        "id": "xyC9zolEZNRQ"
      },
      "execution_count": null,
      "outputs": []
    },
    {
      "cell_type": "markdown",
      "source": [
        "##### 1. Why did you pick the specific chart?"
      ],
      "metadata": {
        "id": "UV0SzAkaZNRQ"
      }
    },
    {
      "cell_type": "markdown",
      "source": [
        "Answer Here."
      ],
      "metadata": {
        "id": "DVPuT8LYZNRQ"
      }
    },
    {
      "cell_type": "markdown",
      "source": [
        "##### 2. What is/are the insight(s) found from the chart?"
      ],
      "metadata": {
        "id": "YPEH6qLeZNRQ"
      }
    },
    {
      "cell_type": "markdown",
      "source": [
        "Answer Here"
      ],
      "metadata": {
        "id": "bfSqtnDqZNRR"
      }
    },
    {
      "cell_type": "markdown",
      "source": [
        "#### Chart - 15 - Pair Plot "
      ],
      "metadata": {
        "id": "q29F0dvdveiT"
      }
    },
    {
      "cell_type": "code",
      "source": [
        "# Pair Plot visualization code"
      ],
      "metadata": {
        "id": "o58-TEIhveiU"
      },
      "execution_count": null,
      "outputs": []
    },
    {
      "cell_type": "markdown",
      "source": [
        "##### 1. Why did you pick the specific chart?"
      ],
      "metadata": {
        "id": "EXh0U9oCveiU"
      }
    },
    {
      "cell_type": "markdown",
      "source": [
        "Answer Here."
      ],
      "metadata": {
        "id": "eMmPjTByveiU"
      }
    },
    {
      "cell_type": "markdown",
      "source": [
        "##### 2. What is/are the insight(s) found from the chart?"
      ],
      "metadata": {
        "id": "22aHeOlLveiV"
      }
    },
    {
      "cell_type": "markdown",
      "source": [
        "Answer Here"
      ],
      "metadata": {
        "id": "uPQ8RGwHveiV"
      }
    },
    {
      "cell_type": "markdown",
      "source": [
        "## **5. Solution to Business Objective**"
      ],
      "metadata": {
        "id": "JcMwzZxoAimU"
      }
    },
    {
      "cell_type": "markdown",
      "source": [
        "#### What do you suggest the client to achieve Business Objective ? \n",
        "Explain Briefly."
      ],
      "metadata": {
        "id": "8G2x9gOozGDZ"
      }
    },
    {
      "cell_type": "markdown",
      "source": [
        "Answer Here."
      ],
      "metadata": {
        "id": "pASKb0qOza21"
      }
    },
    {
      "cell_type": "markdown",
      "source": [
        "# **Conclusion**"
      ],
      "metadata": {
        "id": "gCX9965dhzqZ"
      }
    },
    {
      "cell_type": "markdown",
      "source": [
        "Write the conclusion here."
      ],
      "metadata": {
        "id": "Fjb1IsQkh3yE"
      }
    },
    {
      "cell_type": "markdown",
      "source": [
        "### ***Hurrah! You have successfully completed your EDA Capstone Project !!!***"
      ],
      "metadata": {
        "id": "gIfDvo9L0UH2"
      }
    }
  ]
}